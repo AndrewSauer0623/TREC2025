{
 "cells": [
  {
   "cell_type": "markdown",
   "id": "e431a3f3",
   "metadata": {},
   "source": [
    "Imports:"
   ]
  },
  {
   "cell_type": "code",
   "execution_count": 3,
   "id": "6de67000",
   "metadata": {},
   "outputs": [
    {
     "name": "stderr",
     "output_type": "stream",
     "text": [
      "c:\\Users\\Max\\Desktop\\TREC2025\\.venv\\lib\\site-packages\\tqdm\\auto.py:21: TqdmWarning: IProgress not found. Please update jupyter and ipywidgets. See https://ipywidgets.readthedocs.io/en/stable/user_install.html\n",
      "  from .autonotebook import tqdm as notebook_tqdm\n"
     ]
    }
   ],
   "source": [
    "import os\n",
    "import time\n",
    "import json\n",
    "\n",
    "import numpy as np\n",
    "import pandas as pd\n",
    "import torch\n",
    "\n",
    "from dotenv import load_dotenv\n",
    "from openai import OpenAI\n",
    "from tqdm import tqdm\n",
    "\n",
    "from sklearn.model_selection import train_test_split, KFold, StratifiedKFold\n",
    "from sklearn.preprocessing import LabelEncoder\n",
    "\n",
    "from torch.utils.data import Dataset, DataLoader\n",
    "\n",
    "from transformers import BertTokenizer, BertForSequenceClassification, Trainer, TrainingArguments\n",
    "\n",
    "import faiss\n",
    "\n",
    "from sentence_transformers import SentenceTransformer, util\n",
    "\n",
    "from sklearn.metrics import classification_report, confusion_matrix, accuracy_score\n",
    "import matplotlib.pyplot as plt\n",
    "import seaborn as sns"
   ]
  },
  {
   "cell_type": "markdown",
   "id": "a346cd33",
   "metadata": {},
   "source": [
    "Create dataFrame for the question assessment"
   ]
  },
  {
   "cell_type": "code",
   "execution_count": 26,
   "id": "5a168c31c4f5fa45",
   "metadata": {
    "ExecuteTime": {
     "end_time": "2025-05-28T13:21:22.267037Z",
     "start_time": "2025-05-28T13:21:22.261377Z"
    },
    "collapsed": false
   },
   "outputs": [
    {
     "data": {
      "text/html": [
       "<div>\n",
       "<style scoped>\n",
       "    .dataframe tbody tr th:only-of-type {\n",
       "        vertical-align: middle;\n",
       "    }\n",
       "\n",
       "    .dataframe tbody tr th {\n",
       "        vertical-align: top;\n",
       "    }\n",
       "\n",
       "    .dataframe thead th {\n",
       "        text-align: right;\n",
       "    }\n",
       "</style>\n",
       "<table border=\"1\" class=\"dataframe\">\n",
       "  <thead>\n",
       "    <tr style=\"text-align: right;\">\n",
       "      <th></th>\n",
       "      <th>Article</th>\n",
       "      <th>Assessment</th>\n",
       "      <th>Question</th>\n",
       "    </tr>\n",
       "  </thead>\n",
       "  <tbody>\n",
       "    <tr>\n",
       "      <th>0</th>\n",
       "      <td>clueweb22-en0030-87-05450</td>\n",
       "      <td>1</td>\n",
       "      <td>Who is Helen Russell, the author of the articl...</td>\n",
       "    </tr>\n",
       "    <tr>\n",
       "      <th>1</th>\n",
       "      <td>clueweb22-en0030-87-05450</td>\n",
       "      <td>1</td>\n",
       "      <td>Has the show John Dillermand received support ...</td>\n",
       "    </tr>\n",
       "    <tr>\n",
       "      <th>2</th>\n",
       "      <td>clueweb22-en0030-87-05450</td>\n",
       "      <td>1</td>\n",
       "      <td>What is the professional credentials of Christ...</td>\n",
       "    </tr>\n",
       "    <tr>\n",
       "      <th>3</th>\n",
       "      <td>clueweb22-en0030-87-05450</td>\n",
       "      <td>1</td>\n",
       "      <td>Who is Erla Heinesen Højsted, cited in the art...</td>\n",
       "    </tr>\n",
       "    <tr>\n",
       "      <th>4</th>\n",
       "      <td>clueweb22-en0030-87-05450</td>\n",
       "      <td>1</td>\n",
       "      <td>Does The Guardian clearly described how the sh...</td>\n",
       "    </tr>\n",
       "  </tbody>\n",
       "</table>\n",
       "</div>"
      ],
      "text/plain": [
       "                     Article Assessment  \\\n",
       "0  clueweb22-en0030-87-05450          1   \n",
       "1  clueweb22-en0030-87-05450          1   \n",
       "2  clueweb22-en0030-87-05450          1   \n",
       "3  clueweb22-en0030-87-05450          1   \n",
       "4  clueweb22-en0030-87-05450          1   \n",
       "\n",
       "                                            Question  \n",
       "0  Who is Helen Russell, the author of the articl...  \n",
       "1  Has the show John Dillermand received support ...  \n",
       "2  What is the professional credentials of Christ...  \n",
       "3  Who is Erla Heinesen Højsted, cited in the art...  \n",
       "4  Does The Guardian clearly described how the sh...  "
      ]
     },
     "execution_count": 26,
     "metadata": {},
     "output_type": "execute_result"
    }
   ],
   "source": [
    "# Specify the path to the text file\n",
    "file_path = '2024-question-assessment.txt'\n",
    "\n",
    "array = []\n",
    "\n",
    "with open(file_path, 'r', encoding='utf-8') as file:\n",
    "    for line in file:\n",
    "        line = line.split(\"\\t\")\n",
    "        if (line[5] == \"4\" or line[5] == \"3\" or line[5] == \"1\"):\n",
    "            array.append(line)\n",
    "            \n",
    "dataFrame = pd.DataFrame(array)\n",
    "dataFrame.columns = [\"AID\", \"Article\", \"RID\", \"Model\", \"Order\", \"Assessment\", \"Useless\", \"Question\"]\n",
    "dataFrame.drop(columns=[\"AID\", \"Model\", \"RID\", \"Useless\", \"Order\"], inplace=True)\n",
    "\n",
    "dataFrame.head()"
   ]
  },
  {
   "cell_type": "markdown",
   "id": "e8d47ae8",
   "metadata": {},
   "source": [
    "Prompt for labeling our data into categories, outputs as an csv file named output.csv"
   ]
  },
  {
   "cell_type": "code",
   "execution_count": 27,
   "id": "95b85cc2af186e4b",
   "metadata": {
    "collapsed": false
   },
   "outputs": [
    {
     "name": "stderr",
     "output_type": "stream",
     "text": [
      "Processing batches:   0%|          | 0/19 [00:00<?, ?it/s]"
     ]
    },
    {
     "name": "stderr",
     "output_type": "stream",
     "text": [
      "Processing batches: 100%|██████████| 19/19 [21:58<00:00, 69.38s/it]\n"
     ]
    }
   ],
   "source": [
    "load_dotenv()\n",
    "\n",
    "# Initialize client properly\n",
    "client = OpenAI(api_key=os.getenv(\"OPENAI_API_KEY\"))\n",
    "qArray = [row[7] for row in array]  # Adjust if needed\n",
    "\n",
    "def format_prompt(qs):\n",
    "    categories = [\n",
    "        \"Author Bias\",\n",
    "        \"Factual Query\",\n",
    "        \"Author Reputation\",\n",
    "        \"Publication Reputation\",\n",
    "        \"Bad Question\"\n",
    "    ]\n",
    "    prompt = (\n",
    "    f\"Classify each of the following questions into one of these categories per line: {', '.join(categories)}.\\n\\n\"\n",
    "    \"These are the criteria for a good question:\\n\"\n",
    "    \"- Questions must be self-contained and explain the full context.\\n\"\n",
    "    \"- Each question must be at most 120 characters long.\\n\"\n",
    "    \"- Questions should be reasonably answerable by a single web page.\\n\"\n",
    "    \"- Avoid compound questions; focus on a single topic per question.\\n\"\n",
    "    '\\nReturn the result as plain CSV with no extra text. Each row should have two columns: '\n",
    "    '\"Question\" and \"Category\". Format like this:\\n\\n'\n",
    "    '\"Question\",\"Category\"\\n'\n",
    "    '\"Example question here?\",\"Author Bias\"\\n'\n",
    ")\n",
    "\n",
    "\n",
    "    for i, q in enumerate(qs, 1):\n",
    "        prompt += f\"{i}. {q.strip()}\\n\"\n",
    "    return prompt\n",
    "\n",
    "# Batch the questions to avoid exceeding token/context limits\n",
    "batch_size = 300  # Adjust as needed for your model/context\n",
    "prompts = [format_prompt(qArray[i:i+batch_size]) for i in range(0, len(qArray), batch_size)]\n",
    "outputs = []\n",
    "\n",
    "for prompt_text in tqdm(prompts, desc=\"Processing batches\"):\n",
    "    response = client.chat.completions.create(\n",
    "        model=\"gpt-4o\",\n",
    "        messages=[{\"role\": \"user\", \"content\": prompt_text}],\n",
    "        temperature=0\n",
    "    )\n",
    "    outputs.append(response.choices[0].message.content)\n",
    "    time.sleep(0.2)\n",
    "# Save all outputs to a single CSV file\n",
    "with open(\"output1.csv\", \"w\", encoding=\"utf-8\") as f:\n",
    "    header_written = False\n",
    "    for output in outputs:\n",
    "        lines = output.strip().splitlines()\n",
    "        if not header_written:\n",
    "            f.write(lines[0] + \"\\n\")  # Write header\n",
    "            header_written = True\n",
    "        for line in lines[1:]:\n",
    "            f.write(line + \"\\n\")"
   ]
  },
  {
   "cell_type": "markdown",
   "id": "a9dfa74e",
   "metadata": {},
   "source": [
    "Load all data into train_test_split and add it to a BERT readable dataset"
   ]
  },
  {
   "cell_type": "code",
   "execution_count": 4,
   "id": "f1f3670f",
   "metadata": {},
   "outputs": [
    {
     "name": "stderr",
     "output_type": "stream",
     "text": [
      "Some weights of BertForSequenceClassification were not initialized from the model checkpoint at bert-base-uncased and are newly initialized: ['classifier.bias', 'classifier.weight']\n",
      "You should probably TRAIN this model on a down-stream task to be able to use it for predictions and inference.\n"
     ]
    }
   ],
   "source": [
    "df1 = pd.read_csv(\"output.csv\", header=None, names=[\"Question\", \"Category\"])\n",
    "\n",
    "col1 = df1.iloc[:, 0].to_numpy()\n",
    "col2 = df1.iloc[:, 1].to_numpy()\n",
    "\n",
    "Q_train, Q_test, c_train, c_test = train_test_split(col1, col2, test_size=0.3, random_state=42)\n",
    "\n",
    "# Define label names for readability (optional)\n",
    "label_names = [\"Author Bias\",\n",
    "        \"Factual Query\",\n",
    "        \"Author Reputation\",\n",
    "        \"Publication Reputation\"]\n",
    "\n",
    "# Load tokenizer and model with built-in classification head\n",
    "tokenizer = BertTokenizer.from_pretrained(\"bert-base-uncased\")\n",
    "model = BertForSequenceClassification.from_pretrained(\"bert-base-uncased\", num_labels=len(label_names))\n",
    "\n",
    "\n",
    "le = LabelEncoder()\n",
    "# Define custom Dataset class\n",
    "class TextDataset(Dataset):\n",
    "    def __init__(self, Q_train, c_train):\n",
    "        self.encodings = tokenizer(Q_train, truncation=True, padding=True, return_tensors=\"pt\")\n",
    "        c_train_encoded = le.fit_transform(c_train) \n",
    "        self.labels = torch.tensor(c_train_encoded)\n",
    "\n",
    "    def __len__(self):\n",
    "        return len(self.labels)\n",
    "\n",
    "    def __getitem__(self, idx):\n",
    "        item = {key: val[idx] for key, val in self.encodings.items()}\n",
    "        item[\"labels\"] = self.labels[idx]\n",
    "        return item\n",
    "\n",
    "# Prepare dataset\n",
    "dataset = TextDataset(list(Q_train), list(c_train))"
   ]
  },
  {
   "cell_type": "markdown",
   "id": "15eb6ac1",
   "metadata": {},
   "source": [
    "Defines hyperparameters for the model and trains it."
   ]
  },
  {
   "cell_type": "code",
   "execution_count": null,
   "id": "0bc98ac2",
   "metadata": {},
   "outputs": [],
   "source": [
    "# Define training arguments\n",
    "training_args = TrainingArguments(\n",
    "    num_train_epochs=3,\n",
    "    auto_find_batch_size = True,\n",
    "    save_strategy=\"no\"\n",
    ")\n",
    "\n",
    "# Set up Trainer API to handle training loop\n",
    "trainer = Trainer(\n",
    "    model=model,\n",
    "    args=training_args,\n",
    "    train_dataset=dataset\n",
    ")\n",
    "\n",
    "# Fine-tune the model\n",
    "trainer.train()\n",
    "\n",
    "# Save the fine-tuned model\n",
    "model.save_pretrained(\"fine_tuned_model\")"
   ]
  },
  {
   "cell_type": "markdown",
   "id": "7b393eb9",
   "metadata": {},
   "source": [
    "Train BERT using KFOLD validation"
   ]
  },
  {
   "cell_type": "code",
   "execution_count": null,
   "id": "85b84ce6",
   "metadata": {},
   "outputs": [],
   "source": [
    "df1 = pd.read_csv(\"output.csv\", header=None, names=[\"Question\", \"Category\"])\n",
    "col1 = df1.iloc[:, 0].to_numpy()\n",
    "col2 = df1.iloc[:, 1].to_numpy()\n",
    "le = LabelEncoder()\n",
    "# Define custom Dataset class\n",
    "class TextDataset(Dataset):\n",
    "    def _init_(self, col1, col2):\n",
    "        self.encodings = tokenizer(col1, truncation=True, padding=True, return_tensors=\"pt\")\n",
    "        col2_encoded = le.fit_transform(col2)\n",
    "        self.labels = torch.tensor(col2_encoded)\n",
    "    def _len_(self):\n",
    "        return len(self.labels)\n",
    "    def _getitem_(self, idx):\n",
    "        item = {key: val[idx] for key, val in self.encodings.items()}\n",
    "        item[\"labels\"] = self.labels[idx]\n",
    "        return item\n",
    "# Prepare dataset\n",
    "dataset = TextDataset(list(col1), list(col2))\n",
    "skf = StratifiedKFold(n_splits=5, shuffle=True, random_state=42)\n",
    "fold_accuracies = []\n",
    "for fold, (train_indices, val_indices) in enumerate(skf.split(col1, col2)):\n",
    "    print(f\"Training Fold {fold+1}/{5}\")\n",
    "    # Split dataset into train and validation sets for the current fold\n",
    "    train_dataset = torch.utils.data.Subset(dataset, train_indices)\n",
    "    val_dataset = torch.utils.data.Subset(dataset, val_indices)\n",
    "    # Create data loaders\n",
    "    train_loader = DataLoader(train_dataset, batch_size=32, shuffle=True)\n",
    "    val_loader = DataLoader(val_dataset, batch_size=32, shuffle=False)\n",
    "    # Training loop\n",
    "    optimizer = torch.optim.AdamW(model.parameters(), lr=2e-5)\n",
    "    criterion = torch.nn.CrossEntropyLoss()\n",
    "    device = torch.device('cuda' if torch.cuda.is_available() else 'cpu')\n",
    "    model.to(device)\n",
    "    model.train()\n",
    "    for epoch in range(3):  # Adjust the number of epochs as needed\n",
    "        for batch in train_loader:\n",
    "            optimizer.zero_grad()\n",
    "            input_ids = batch['input_ids'].to(device)\n",
    "            attention_mask = batch['attention_mask'].to(device)\n",
    "            labels = batch['labels'].to(device)\n",
    "            outputs = model(input_ids, attention_mask=attention_mask, labels=labels)\n",
    "            loss = outputs.loss\n",
    "            loss.backward()\n",
    "            optimizer.step()\n",
    "    # Evaluation loop\n",
    "    model.eval()\n",
    "    val_predictions = []\n",
    "    val_labels = []\n",
    "    with torch.no_grad():\n",
    "        for batch in val_loader:\n",
    "            input_ids = batch['input_ids'].to(device)\n",
    "            attention_mask = batch['attention_mask'].to(device)\n",
    "            labels = batch['labels'].to(device)\n",
    "            outputs = model(input_ids, attention_mask=attention_mask)\n",
    "            _, predicted_labels = torch.max(outputs.logits, dim=1)\n",
    "            val_predictions.extend(predicted_labels.tolist())\n",
    "            val_labels.extend(labels.tolist())\n",
    "    fold_accuracy = accuracy_score(val_labels, val_predictions)\n",
    "    fold_accuracies.append(fold_accuracy)\n",
    "    print(f\"Accuracy for Fold {fold+1}: {fold_accuracy}\")\n",
    "# Calculate average accuracy across all folds\n",
    "average_accuracy = sum(fold_accuracies) / len(fold_accuracies)\n",
    "print(f\"Average Accuracy: {average_accuracy}\")"
   ]
  },
  {
   "cell_type": "markdown",
   "id": "2c6b9caf",
   "metadata": {},
   "source": [
    "Load trained model from disk"
   ]
  },
  {
   "cell_type": "code",
   "execution_count": 7,
   "id": "b75d1f27",
   "metadata": {},
   "outputs": [],
   "source": [
    "model = BertForSequenceClassification.from_pretrained(\"./fine_tuned_model\")"
   ]
  },
  {
   "cell_type": "markdown",
   "id": "21139c45",
   "metadata": {},
   "source": [
    "Use the model to make predictions on the test data"
   ]
  },
  {
   "cell_type": "code",
   "execution_count": 8,
   "id": "3f7a9049",
   "metadata": {},
   "outputs": [
    {
     "name": "stderr",
     "output_type": "stream",
     "text": [
      "Running inference: 100%|██████████| 1/1 [00:01<00:00,  1.23s/it]"
     ]
    },
    {
     "name": "stdout",
     "output_type": "stream",
     "text": [
      "Does the article favor Ukraine's perspective in its reporting on the drone strike?----->Author Bias\n",
      "Are Russian sources or officials quoted to balance the Ukrainian claims in the article?----->Bad Question\n",
      "Is emotionally charged language used to describe Ukraine’s attack on Russian bombers?----->Bad Question\n",
      "Does the article present Russia’s version of events with equal weight as Ukraine’s?----->Author Bias\n",
      "Is there any indication of selective omission in describing the drone strike outcome?----->Author Bias\n",
      "Has the author of the article reported on Ukraine-Russia issues before?----->Author Reputation\n",
      "What is the past accuracy record of the journalist who wrote the drone strike piece?----->Author Reputation\n",
      "Has the author been accused of bias or misinformation in past reporting?----->Author Bias\n",
      "Is the author a staff reporter or a freelance contributor for Reuters?----->Author Reputation\n",
      "Does the journalist have expertise in military or geopolitical reporting?----->Author Reputation\n",
      "How many Russian aircraft were destroyed in Ukraine’s June 1 drone strike?----->Bad Question\n",
      "Which air bases were targeted during Ukraine’s June 1 drone operation?----->Bad Question\n",
      "What kind of drones did Ukraine use in the June 1 air base attack?----->Bad Question\n",
      "How was satellite imagery used to assess the damage to Russian bombers?----->Bad Question\n",
      "What was the official Russian response to the June 1 drone attack?----->Bad Question\n",
      "What is Reuters' track record for accuracy in military conflict reporting?----->Factual Query\n",
      "Is Reuters considered a neutral source in coverage of the Ukraine-Russia war?----->Factual Query\n",
      "Has Reuters been criticized for bias in its reporting on Eastern Europe?----->Factual Query\n",
      "What are Reuters’ editorial standards for verifying wartime events?----->Factual Query\n",
      "How does Reuters handle corrections when reporting errors are discovered?----->Factual Query\n"
     ]
    },
    {
     "name": "stderr",
     "output_type": "stream",
     "text": [
      "\n"
     ]
    }
   ],
   "source": [
    "import random\n",
    "#Q_test_list = Q_test.astype(str).tolist()\n",
    "batch_size = 64  # Tune this based on your RAM\n",
    "\n",
    "predictions = []\n",
    "\n",
    "test_data = [\n",
    "    # Author Bias\n",
    "    \"Does the article favor Ukraine's perspective in its reporting on the drone strike?\",\n",
    "    \"Are Russian sources or officials quoted to balance the Ukrainian claims in the article?\",\n",
    "    \"Is emotionally charged language used to describe Ukraine’s attack on Russian bombers?\",\n",
    "    \"Does the article present Russia’s version of events with equal weight as Ukraine’s?\",\n",
    "    \"Is there any indication of selective omission in describing the drone strike outcome?\",\n",
    "    # Author Reputation\n",
    "    \"Has the author of the article reported on Ukraine-Russia issues before?\",\n",
    "    \"What is the past accuracy record of the journalist who wrote the drone strike piece?\",\n",
    "    \"Has the author been accused of bias or misinformation in past reporting?\",\n",
    "    \"Is the author a staff reporter or a freelance contributor for Reuters?\",\n",
    "    \"Does the journalist have expertise in military or geopolitical reporting?\",\n",
    "    # Factual Query\n",
    "    \"How many Russian aircraft were destroyed in Ukraine’s June 1 drone strike?\",\n",
    "    \"Which air bases were targeted during Ukraine’s June 1 drone operation?\",\n",
    "    \"What kind of drones did Ukraine use in the June 1 air base attack?\",\n",
    "    \"How was satellite imagery used to assess the damage to Russian bombers?\",\n",
    "    \"What was the official Russian response to the June 1 drone attack?\",\n",
    "    # Publication Reputation\n",
    "    \"What is Reuters' track record for accuracy in military conflict reporting?\",\n",
    "    \"Is Reuters considered a neutral source in coverage of the Ukraine-Russia war?\",\n",
    "    \"Has Reuters been criticized for bias in its reporting on Eastern Europe?\",\n",
    "    \"What are Reuters’ editorial standards for verifying wartime events?\",\n",
    "    \"How does Reuters handle corrections when reporting errors are discovered?\"\n",
    "]\n",
    "\n",
    "test_data_c = [\"Author Bias\", \"Author Bias\", \"Author Bias\", \"Author Bias\", \"Author Bias\",\n",
    "               \"Author Reputation\", \"Author Reputation\", \"Author Reputation\", \"Author Reputation\", \"Author Reputation\",\n",
    "               \"Factual Query\", \"Factual Query\", \"Factual Query\", \"Factual Query\", \"Factual Query\",\n",
    "               \"Publication Reputation\", \"Publication Reputation\", \"Publication Reputation\", \"Publication Reputation\", \"Publication Reputation\"]\n",
    "\n",
    "\n",
    "\n",
    "# Wrap the range with tqdm for a progress bar\n",
    "for i in tqdm(range(0, len(test_data), batch_size), desc=\"Running inference\"):\n",
    "    batch = test_data[i:i+batch_size]\n",
    "    test_encodings = tokenizer(batch, return_tensors=\"pt\", truncation=True, padding=True)\n",
    "    with torch.no_grad():\n",
    "        outputs = model(**test_encodings)\n",
    "        batch_preds = torch.argmax(outputs.logits, dim=1)\n",
    "        predictions.extend(batch_preds)\n",
    "\n",
    "# Convert predicted tensor to list of integers\n",
    "predicted_labels = [label.item() for label in predictions]\n",
    "\n",
    "predicted_labels = le.inverse_transform(predicted_labels)\n",
    "\n",
    "# Print results\n",
    "for i in range(len(test_data)):\n",
    "    print(test_data[i] + \"----->\" + predicted_labels[i])"
   ]
  },
  {
   "cell_type": "markdown",
   "id": "06161580",
   "metadata": {},
   "source": [
    "Prints out a classifcation report for the test data output"
   ]
  },
  {
   "cell_type": "code",
   "execution_count": 9,
   "id": "831bd9c1",
   "metadata": {},
   "outputs": [
    {
     "name": "stdout",
     "output_type": "stream",
     "text": [
      "Accuracy: 0.35\n",
      "\n",
      "Classification Report:\n",
      "                        precision    recall  f1-score   support\n",
      "\n",
      "           Author Bias       0.75      0.60      0.67         5\n",
      "     Author Reputation       1.00      0.80      0.89         5\n",
      "          Bad Question       0.00      0.00      0.00         0\n",
      "         Factual Query       0.00      0.00      0.00         5\n",
      "Publication Reputation       0.00      0.00      0.00         5\n",
      "\n",
      "              accuracy                           0.35        20\n",
      "             macro avg       0.35      0.28      0.31        20\n",
      "          weighted avg       0.44      0.35      0.39        20\n",
      "\n"
     ]
    },
    {
     "name": "stderr",
     "output_type": "stream",
     "text": [
      "c:\\Users\\Max\\Desktop\\TREC2025\\.venv\\lib\\site-packages\\sklearn\\metrics\\_classification.py:1565: UndefinedMetricWarning: Precision is ill-defined and being set to 0.0 in labels with no predicted samples. Use `zero_division` parameter to control this behavior.\n",
      "  _warn_prf(average, modifier, f\"{metric.capitalize()} is\", len(result))\n",
      "c:\\Users\\Max\\Desktop\\TREC2025\\.venv\\lib\\site-packages\\sklearn\\metrics\\_classification.py:1565: UndefinedMetricWarning: Recall is ill-defined and being set to 0.0 in labels with no true samples. Use `zero_division` parameter to control this behavior.\n",
      "  _warn_prf(average, modifier, f\"{metric.capitalize()} is\", len(result))\n",
      "c:\\Users\\Max\\Desktop\\TREC2025\\.venv\\lib\\site-packages\\sklearn\\metrics\\_classification.py:1565: UndefinedMetricWarning: Precision is ill-defined and being set to 0.0 in labels with no predicted samples. Use `zero_division` parameter to control this behavior.\n",
      "  _warn_prf(average, modifier, f\"{metric.capitalize()} is\", len(result))\n",
      "c:\\Users\\Max\\Desktop\\TREC2025\\.venv\\lib\\site-packages\\sklearn\\metrics\\_classification.py:1565: UndefinedMetricWarning: Recall is ill-defined and being set to 0.0 in labels with no true samples. Use `zero_division` parameter to control this behavior.\n",
      "  _warn_prf(average, modifier, f\"{metric.capitalize()} is\", len(result))\n",
      "c:\\Users\\Max\\Desktop\\TREC2025\\.venv\\lib\\site-packages\\sklearn\\metrics\\_classification.py:1565: UndefinedMetricWarning: Precision is ill-defined and being set to 0.0 in labels with no predicted samples. Use `zero_division` parameter to control this behavior.\n",
      "  _warn_prf(average, modifier, f\"{metric.capitalize()} is\", len(result))\n",
      "c:\\Users\\Max\\Desktop\\TREC2025\\.venv\\lib\\site-packages\\sklearn\\metrics\\_classification.py:1565: UndefinedMetricWarning: Recall is ill-defined and being set to 0.0 in labels with no true samples. Use `zero_division` parameter to control this behavior.\n",
      "  _warn_prf(average, modifier, f\"{metric.capitalize()} is\", len(result))\n"
     ]
    },
    {
     "data": {
      "image/png": "[encoded data removed]",
      "text/plain": [
       "<Figure size 1000x800 with 2 Axes>"
      ]
     },
     "metadata": {},
     "output_type": "display_data"
    }
   ],
   "source": [
    "# Convert predicted tensor to list of integers\n",
    "predicted_labels = [label.item() for label in predictions]\n",
    "\n",
    "predicted_labels = le.inverse_transform(predicted_labels)\n",
    "# Accuracy\n",
    "print(\"Accuracy:\", accuracy_score(test_data_c, predicted_labels))\n",
    "\n",
    "# Classification report\n",
    "print(\"\\nClassification Report:\")\n",
    "print(classification_report(test_data_c, predicted_labels))\n",
    "\n",
    "# Confusion matrix\n",
    "cm = confusion_matrix(test_data_c, predicted_labels)\n",
    "plt.figure(figsize=(10, 8))\n",
    "sns.heatmap(cm, annot=True, fmt='d', cmap='Blues',\n",
    "            xticklabels=le.classes_,\n",
    "            yticklabels=le.classes_)\n",
    "plt.xlabel(\"Predicted Labels\")\n",
    "plt.ylabel(\"True Labels\")\n",
    "plt.title(\"Confusion Matrix\")\n",
    "plt.tight_layout()\n",
    "plt.show()\n"
   ]
  },
  {
   "cell_type": "markdown",
   "id": "6f2812b7",
   "metadata": {},
   "source": [
    "Creates a Pandas dataFrame from the clueweb database"
   ]
  },
  {
   "cell_type": "code",
   "execution_count": null,
   "id": "2a697066",
   "metadata": {},
   "outputs": [
    {
     "name": "stdout",
     "output_type": "stream",
     "text": [
      "38131\n"
     ]
    },
    {
     "data": {
      "text/html": [
       "<div>\n",
       "<style scoped>\n",
       "    .dataframe tbody tr th:only-of-type {\n",
       "        vertical-align: middle;\n",
       "    }\n",
       "\n",
       "    .dataframe tbody tr th {\n",
       "        vertical-align: top;\n",
       "    }\n",
       "\n",
       "    .dataframe thead th {\n",
       "        text-align: right;\n",
       "    }\n",
       "</style>\n",
       "<table border=\"1\" class=\"dataframe\">\n",
       "  <thead>\n",
       "    <tr style=\"text-align: right;\">\n",
       "      <th></th>\n",
       "      <th>URL</th>\n",
       "      <th>ClueWeb22-ID</th>\n",
       "      <th>Clean-Text</th>\n",
       "    </tr>\n",
       "  </thead>\n",
       "  <tbody>\n",
       "    <tr>\n",
       "      <th>0</th>\n",
       "      <td>https://www.dailymail.co.uk/news/article-10130...</td>\n",
       "      <td>clueweb22-en0032-91-05114</td>\n",
       "      <td>Japan's Princess Mako marries commoner, loses ...</td>\n",
       "    </tr>\n",
       "    <tr>\n",
       "      <th>1</th>\n",
       "      <td>https://www.nytimes.com/2021/08/26/opinion/afg...</td>\n",
       "      <td>clueweb22-en0027-70-17775</td>\n",
       "      <td>Opinion | Let’s Not Pretend That the Way We Wi...</td>\n",
       "    </tr>\n",
       "    <tr>\n",
       "      <th>2</th>\n",
       "      <td>https://www.politicshome.com/thehouse/article/...</td>\n",
       "      <td>clueweb22-en0032-18-01494</td>\n",
       "      <td>No longer can China’s atrocities against the U...</td>\n",
       "    </tr>\n",
       "    <tr>\n",
       "      <th>3</th>\n",
       "      <td>https://medicaladvise.org/clinical-trials-rese...</td>\n",
       "      <td>clueweb22-en0012-53-13803</td>\n",
       "      <td>How does molnupiravir work? - Medical Advise\\n...</td>\n",
       "    </tr>\n",
       "    <tr>\n",
       "      <th>4</th>\n",
       "      <td>https://www.euronews.com/2021/12/10/mexico-tru...</td>\n",
       "      <td>clueweb22-en0002-69-11564</td>\n",
       "      <td>Mexico truck crash: Dozens killed after lorry ...</td>\n",
       "    </tr>\n",
       "  </tbody>\n",
       "</table>\n",
       "</div>"
      ],
      "text/plain": [
       "                                                 URL  \\\n",
       "0  https://www.dailymail.co.uk/news/article-10130...   \n",
       "1  https://www.nytimes.com/2021/08/26/opinion/afg...   \n",
       "2  https://www.politicshome.com/thehouse/article/...   \n",
       "3  https://medicaladvise.org/clinical-trials-rese...   \n",
       "4  https://www.euronews.com/2021/12/10/mexico-tru...   \n",
       "\n",
       "                ClueWeb22-ID  \\\n",
       "0  clueweb22-en0032-91-05114   \n",
       "1  clueweb22-en0027-70-17775   \n",
       "2  clueweb22-en0032-18-01494   \n",
       "3  clueweb22-en0012-53-13803   \n",
       "4  clueweb22-en0002-69-11564   \n",
       "\n",
       "                                          Clean-Text  \n",
       "0  Japan's Princess Mako marries commoner, loses ...  \n",
       "1  Opinion | Let’s Not Pretend That the Way We Wi...  \n",
       "2  No longer can China’s atrocities against the U...  \n",
       "3  How does molnupiravir work? - Medical Advise\\n...  \n",
       "4  Mexico truck crash: Dozens killed after lorry ...  "
      ]
     },
     "execution_count": 4,
     "metadata": {},
     "output_type": "execute_result"
    }
   ],
   "source": [
    "# Specify the path to the text file\n",
    "file_path = 'trec-2024-lateral-reading-task2-baseline-documents.jsonl'\n",
    "\n",
    "\n",
    "with open(file_path, 'r', encoding=\"utf8\") as f:\n",
    "    data = [json.loads(line) for line in f]\n",
    "\n",
    "clue_df = pd.DataFrame(data)\n",
    "\n",
    "print(len(clue_df))\n",
    "clue_df.drop(columns=[\"URL-hash\", \"Language\"], inplace=True)\n",
    "clue_df.head()"
   ]
  },
  {
   "cell_type": "code",
   "execution_count": 6,
   "id": "36d05c78",
   "metadata": {},
   "outputs": [
    {
     "name": "stdout",
     "output_type": "stream",
     "text": [
      "{\"url\": \"http://0-60.reviews/0-60-times/\", \"title\": \"0-60 Times - 0-60 | 0 to 60 Times & 1/4 Mile Times | Zero to 60 Car Reviews\", \"headings\": \"0-60 Times\\n0-60 Times\", \"body\": \"0-60 Times - 0-60 | 0 to 60 Times & 1/4 Mile Times | Zero to 60 Car Reviews\\n0-60 Times\\nThere are many ways to measure the power a vehicle has \\u2013 top speed, horsepower, foot-pounds of torque. Those are all important, but the most asked question is, \\u201cWhat\\u2019s the 0-60 time?\\u201d This is nothing more than a measure of how quickly a vehicle can reach the 60 mile per hour mark. It is a measure of acceleration of a vehicle. 0-60 times differ a great deal depending on the amount of power a motor puts out, of course. But anyone who spends any amount of time with car enthusiasts are sure to hear the ubiquitous term bantered around more often than most other metrics by which cars are measured in terms of power.\\nThe only other measure that comes close as far as how acceleration is commonly measures in cars in the United States is the quarter mile time. Enthusiasts will often ask about how quickly a car can get through a quarter mile, but that can be seen as less accurate a estimate of acceleration than the amount of time it takes a vehicle to reach the sixty miler per hour mark. The quarter mile time can often have more variable such as driver experience.\\nThe 0-60 mph speed is used as the standard in the United States, where the rest of the world prefers the 0-100 km version. But both measure the performance of a car. A lot goes into increasing 0-60 times in performance vehicles. As a normal rule of thumb, performance cars are considered those with 0-60 time of under 6 seconds, while Exotic cars will do 0-60 in 3 to 4 seconds. However, in most cases, a car isn\\u2019t simply \\u201cstuck with\\u201d the acceleration number with which it was born. Engineers and designers work tirelessly to provide better and better numbers with each progressive model of performance and exotic cars. But, even the back yard mechanic or muscle car enthusiast can determine the 0-60 times of their cars and make moves to improve them.\\nThe testing of acceleration is usually done on a closed course away from people other than the team that may be working on the specific car. This limits putting anyone in danger who is not part of the test or the ongoing project. Testers can use something as simple as a stop watch and the vehicle\\u2019s speedometer. This is probably good enough for the typical muscle car enthusiast who is just looking for an estimate of how much power his latest improvements will give him. For engineers testing a new exotic sports car, though, a simple estimate is not accurate enough. They want hard and fast 0-60 times, and they use much more highly-technical equipment to get their numbers. With the 0-60 figure being so important in automobile sales, they do everything possible to ensure their numbers are incredibly accurate.\\nIn professional testing situations, highly technical and accurate measuring devices are hooked to computers as the test is performed. The test is run in two different directions, to eliminate any influence of wind, an unseen downhill grade or any differences in traction. The average of these two times will be the recorded 0-60 time for the car. Doppler radar guns are used to ensure the tester is recording exact 0 -60 times. This leaves the driver to focus solely on running through the gears as precisely as possible and simply driving in a straight line. This allow for a more accurate measure, as does running the test first in one direction and then in the exact opposite direction.\\nSome still feel, however, that listing one 0 \\u2013 60 time is not truly indicative of what a new owner can expect from a performance or exotic car, or even a muscle car. Instead, some believe the measure should include a range of times rather than one finite mark to which all cars of any particular model should be held. For instance, they believe a BMW M3 should have a listed time of 3.9 \\u2013 4.2 seconds and a Corvette Z06 should have a range from 3.6 to 4.0. These people believe that a range of numbers better represents what an owner can honestly expect to see when he or she takes delivery of a new vehicle.\\nThis contingent of car enthusiasts and engineers believes that there is no way for either the time to 60 mph or even a quarter mile time to be completely accurate, as there are simply too many variables that come into play. No matter if you are a 0 \\u2013 60 purist, or you believe that it is an inexact science, you can be sure that the measure itself will not be going away any time soon. It is still one of the biggest touted numbers for vehicles, and easier for people to relate to than horsepower and torque.\", \"docid\": \"msmarco_v2.1_doc_00_0\"}\n",
      "{\"url\": \"http://0-www.worldcat.org.novacat.nova.edu/identities/lccn-n79036869/\", \"title\": \"Ethel Percy Andrus Gerontology Center [WorldCat Identities]\", \"headings\": \"Ethel Percy Andrus Gerontology Center\\nEthel Percy Andrus Gerontology Center\\nAndrus (Ethel Percy) Gerontology Center\\nAndrus Gerontology Center\\nAndrus Gerontology Center Los Angeles, Calif\\nEthel Percy Andrus Gerontology Center\\nUniversity of Southern California Andrus Gerontology Center\\nUniversity of Southern California Ethel Percy Andrus Gerontology Center\\nUniversity of Southern California Ethel Perey Andrus gerontology center\\nUniversity of Southern California Los Angeles, Calif Andrus Gerontology Center\\nUniversity of Southern California Los Angeles, Calif Ethel Percy Andrus Gerontology Center\\nLanguages\\n\", \"body\": \"Ethel Percy Andrus Gerontology Center [WorldCat Identities]\\nEthel Percy Andrus Gerontology Center\\nOverview\\nWorks:\\n233  works in  338  publications in  1  language and  6,766  library holdings\\nGenres:\\nBibliography Conference papers and proceedings Bibliographies Prescriptions, formulae, receipts, etc\\nRoles:\\nPublisher\\nClassifications:\\nHQ1061, 305.26\\nPublication Timeline\\nBy Posthumously by About 1960\\u2026 1963\\u2026 1966\\u2026 1969\\u2026 1972\\u2026 1975\\u2026 1978\\u2026 1981\\u2026 1984\\u2026 1987\\u2026 1990\\u2026 1993\\u2026 1996\\u2026 1999\\u2026 2002\\u2026 2005\\u2026 2008\\u2026\\n\\nBy\\nPosthumously by\\nAbout\\n1960-1961\\n0\\n0\\n0\\n1961-1962\\n0\\n0\\n0\\n1962-1963\\n0\\n0\\n0\\n1963-1964\\n0\\n0\\n0\\n1964-1965\\n0\\n0\\n0\\n1965-1966\\n0\\n0\\n0\\n1966-1967\\n0\\n0\\n0\\n1967-1968\\n0\\n0\\n0\\n1968-1969\\n0\\n0\\n0\\n1969-1970\\n10\\n0\\n5\\n1970-1971\\n0\\n0\\n0\\n1971-1972\\n10\\n0\\n0\\n1972-1973\\n25\\n0\\n0\\n1973-1974\\n35\\n0\\n5\\n1974-1975\\n25\\n0\\n0\\n1975-1976\\n35\\n0\\n5\\n1976-1977\\n25\\n0\\n5\\n1977-1978\\n30\\n0\\n0\\n1978-1979\\n20\\n0\\n5\\n1979-1980\\n30\\n0\\n0\\n1980-1981\\n25\\n0\\n0\\n1981-1982\\n30\\n0\\n0\\n1982-1983\\n25\\n0\\n0\\n1983-1984\\n25\\n0\\n0\\n1984-1985\\n20\\n0\\n0\\n1985-1986\\n25\\n0\\n5\\n1986-1987\\n20\\n0\\n0\\n1987-1988\\n20\\n0\\n0\\n1988-1989\\n25\\n0\\n0\\n1989-1990\\n20\\n0\\n0\\n1990-1991\\n20\\n0\\n0\\n1991-1992\\n25\\n0\\n0\\n1992-1993\\n5\\n0\\n0\\n1993-1994\\n20\\n0\\n0\\n1994-1995\\n15\\n0\\n0\\n1995-1996\\n10\\n0\\n0\\n1996-1997\\n10\\n0\\n0\\n1997-1998\\n15\\n0\\n0\\n1998-1999\\n0\\n0\\n0\\n1999-2000\\n0\\n0\\n0\\n2000-2001\\n0\\n0\\n0\\n2001-2002\\n5\\n0\\n0\\n2002-2003\\n0\\n0\\n0\\n2003-2004\\n15\\n0\\n0\\n2004-2005\\n5\\n0\\n0\\n2005-2006\\n5\\n0\\n0\\n2006-2007\\n0\\n0\\n0\\n2007-2008\\n0\\n0\\n0\\n2008-2009\\n10\\n0\\n0\\n2009-2010\\n0\\n0\\n0\\n2010-2011\\n0\\n0\\n0\\nAbout\\nMost widely held works about  Ethel Percy Andrus Gerontology Center\\nCatalogs of the Ethel Percy Andrus Gerontology Center, University of Southern California, Los Angeles by Ethel Percy Andrus Gerontology Center (  Book  )\\nEnvironmental design for the elderly training program : progress report(  Book  )\\nHandbook by Ethel Percy Andrus Gerontology Center (  Book  )\\nEvaluation of an information and referral program : caller profiles and resource materials by Christine Anne Wolfe (  )\\nThe Work of the Andrus Gerontology Center : what we do and what it means for older people : statements from the faculty and  students for the congressional hearings held by Select Subcommittee on Education, U.S. Congress, Hon. John Brademas, Chairman by Ethel Percy Andrus Gerontology Center (  Book  )\\nA grant application for the construction of a gerontology center, University of Southern California : submitted to U.S. Department  of Health, Education, and Welfare, Public Health Service, Health Research Facilities Branch, Division of Research Facilities  and Resources, National Institutes of Health, Bethesda, Maryland by University of Southern California (  Book  )\\nmore\\nfewer\\nMost widely held works by  Ethel Percy Andrus Gerontology Center\\nAging : scientific perspectives and social issues by Ethel Percy Andrus Gerontology Center (  Book  )\\n5  editions published  between 1975 and  1983  in English and held by  873 WorldCat member  libraries  worldwide\\nCognition, stress, and aging(  Book  )\\n3  editions published  in 1985 in English and held by  564 WorldCat member  libraries  worldwide\\nDealing with death : discussions of death presented for those concerned with the delivery of care service for the elderly(  Book  )\\n3  editions published  between 1973 and  1978  in English and held by  373 WorldCat member  libraries  worldwide\\nDepression in the elderly : a behavioral treatment manual by Dolores Gallagher-Thompson (  Book  )\\n4  editions published  in 1981 in English and held by  222 WorldCat member  libraries  worldwide\\nNational Eldercare Institute on Housing and Supportive Services : final report by Julie Overton (  Book  )\\n1  edition published  in 1995 in English and held by  215 WorldCat member  libraries  worldwide\\nPsychosocial needs of the aged: selected papers(  Book  )\\n2  editions published  in 1973 in English and held by  205 WorldCat member  libraries  worldwide\\nPsychosocial needs of the aged : a health care perspective by Eugene Seymour (  Book  )\\n2  editions published  in 1978 in English and held by  202 WorldCat member  libraries  worldwide\\nDetermining the impact of gerontology preparation on personnel in the aging network : a national survey by David A Peterson (  Book  )\\n4  editions published  in 1991 in English and held by  194 WorldCat member  libraries  worldwide\\nGerontology instruction in American institutions of higher education : a national survey by David A Peterson (  Book  )\\n3  editions published  in 1987 in English and held by  186 WorldCat member  libraries  worldwide\\nThe publication summarizes a report on gerontology instruction in American institutions based on a 1985-1986 survey of over  3000 campuses. The summary examines previous knowledge of gerontology instruction and explains the purpose for the national  survey, its design and goals, the questionnaires used and the data derived from them, and how the data were collected and  analyzed. Summary data are presented in the following areas: the extent of current gerontology instruction, the various gerontology  programs available and their structure, numbers of students completing gerontology courses, and faculty involvement in gerontology  instruction. Additional information is provided on gerontology credentials by level of program (Associate, Bachelors, etc.),  the number of alumni completing gerontology programs, the services and resources that are offered to students in these programs,  and the support provided by the Administration on Aging for gerontology training. Conclusions are provided that deal with  future research in this area of gerontology training, as well as various recommendations on what is believed to be needed  in acquiring a greater insight into trends in gerontology instruction including the issue of professionals working with older  people. Contains 14 references. (Glr)\\nDrugs and the elderly by Richard H Davis (  Book  )\\n6  editions published  between 1973 and  1978  in English and held by  165 WorldCat member  libraries  worldwide\\nSafety for the elderly : a selected bibliography by Ethel Percy Andrus Gerontology Center (  Book  )\\n2  editions published  in 1975 in English and held by  148 WorldCat member  libraries  worldwide\\nApproximately 300 references to monographs (proceedings, theses, books, government documents, and reports) and journal articles  published between 1960-1974. Primarily English-language literature. Citations retrieved from Andrus Gerontology Center file,  which was compiled from major and specialized sources, e.g., MEDLARS, Psychological abstracts, and Journal of gerontology.  Classified arrangement under 8 headings such as General safety, Vehicle accidents, and Statistics. Entry gives bibliographical  information. No index\\nCorporate response to an aging workforce : the managers' perspective(  Book  )\\n4  editions published  in 1988 in English and held by  147 WorldCat member  libraries  worldwide\\nTransportation, the diverse aged(  Book  )\\nin English and held by  142 WorldCat member  libraries  worldwide\\nStress and the organization by Richard H Davis (  Book  )\\n2  editions published  in 1979 in English and held by  141 WorldCat member  libraries  worldwide\\nThe proceedings of a conference on stress and the organization, sponsored by the Business Institute in Gerontology, are presented.  The materials address the following areas of concern related to the problem of stress, including: (1) physiology and psychological  effects; (2) organization-induced stress and its manifestations; (3) mid-life transitions for men; (4) the dilemma of corporate  women; and (5) exercise and physical fitness. The appendices contain transcripts of a panel discussion on corporate stress  and a comment on personal stress management. (Author/HLM)\\nIntergenerational relations and aging : a selected bibliography by Vern L Bengtson (  Book  )\\n5  editions published  in 1975 in English and held by  139 WorldCat member  libraries  worldwide\\nEnvironmental planning for the elderly : a selected bibliography by Ethel Percy Andrus Gerontology Center (  Book  )\\n3  editions published  in 1975 in English and held by  130 WorldCat member  libraries  worldwide\\nOver 500 entries to books, government documents, journal articles, dissertations, and reports published primarily between  1959-1974. Worldwide coverage with emphasis on English-language literature. Citations retrieved from Andrus Gerontology Center  file, which was compiled from major and specialized sources such as MEDLARS, Psychological abstracts, and Journal of gerontology.  Topical arrangement under Bibliographies, Environment, Housing, Selected services, and Transportation. Entry gives bibliographical  information. No index\\nEtiology of mental disorders in aging : a selected bibliography by Ethel Percy Andrus Gerontology Center (  Book  )\\n4  editions published  in 1975 in English and held by  128 WorldCat member  libraries  worldwide\\nOver 500 entries to books, dissertations, journal articles, and proceedings published primarily between 1959-1974. Worldwide  coverage with emphasis on English-language literature. Citations retrieved from Andrus Gerontology Center file, which was  compiled from major and specialized sources, e.g., MEDLARS, Psychological abstracts, and Journal of gerontology. Classified  arrangement under such headings as Psychoses, Neuroses, and Mental confusion. Entry gives bibliographical information. No  index\\nAssessment and therapy in aging : a selected bibliography by Ethel Percy Andrus Gerontology Center (  Book  )\\n3  editions published  in 1975 in English and held by  125 WorldCat member  libraries  worldwide\\nOver 500 entries to books, dissertations, journal articles, and proceedings published primarily between 1959-1974. Worldwide  coverage with emphasis on English-language literature. Citations retrieved from Andrus Gerontology Center file, which was  compiled from major and specialized sources, e.g., MEDLARS, Psychological abstracts, and Journal of gerontology. Classified  arrangement under sections titled Psychological tests of mental status, Therapy (not drug), and Psychopharmacology. Entry  gives bibliographical information. No index\\nThe silver lobby : a guide to advocacy for older persons by Clinton W Hess (  Book  )\\n2  editions published  in 1978 in English and held by  122 WorldCat member  libraries  worldwide\\nSexuality and aging : a selected bibliography by Ethel Percy Andrus Gerontology Center (  Book  )\\n3  editions published  in 1975 in English and held by  121 WorldCat member  libraries  worldwide\\nOver 250 citations to literature \\\"compiled from commercially-available data bases and published sources relevant to gerontology.\\\"  Many journal articles; also includes books, government publications, and dissertations. English-language references stressed.  Covers period 1959-1974. Alphabetical arrangement by authors under 10 topics, e.g., Sex and health, Climacteric, and Societal  aspects. No index\\nmore\\nfewer\\nAudience Level\\n0\\n\\n1\\n\\nKids\\nGeneral\\nSpecial\\n\\nAudience level: 0.45 (from 0.34  for Dealing wi ... to 0.76  for Evaluation  ...)\\nUseful Links\\nLibrary of Congress Authority File (English)\\nVirtual International Authority File.\\nAssociated Subjects\\nAccidents Accidents--Prevention Age and employment Age groups Aging Aging--Psychological aspects Behavior therapy California Cognition Cognition in old age Corporations--Employees Death--Psychological aspects Depression in old age--Treatment Drug abuse Ethel Percy Andrus Gerontology Center Ethel Percy Andrus Gerontology Center.--Library Geriatric nursing Geriatric pharmacology Geriatric psychiatry Geriatrics Geriatrics--Psychological aspects Geriatrics--Psychosomatic aspects Geriatrics--Study and teaching (Higher) Gerontology Gerontology--Study and teaching (Graduate) Gerontology--Study and teaching (Higher) Intergenerational relations Job stress Manpower planning National Eldercare Institute on Housing and Supportive Services (U.S.) Old age Old age--Research Older people Older people--Care Older people--Drug use Older people--Dwellings Older people--Employment Older people--Family relationships Older people--Health and hygiene Older people--Political activity Older people--Sexual behavior Older people--Transportation Personnel management Psychology, Pathological--Etiology Social work with older people Stress (Psychology) Stress in old age Terminal care Training needs United States\\nAlternative Names\\nUniversity of Southern California. Gerontology Center\\nAndrus (Ethel Percy) Gerontology Center\\nAndrus Gerontology Center\\nAndrus Gerontology Center Los Angeles, Calif\\nEthel Percy Andrus Gerontology Center\\nUniversity of Southern California Andrus Gerontology Center\\nUniversity of Southern California Ethel Percy Andrus Gerontology Center\\nUniversity of Southern California Ethel Perey Andrus gerontology center\\nUniversity of Southern California Los Angeles, Calif Andrus Gerontology Center\\nUniversity of Southern California Los Angeles, Calif Ethel Percy Andrus Gerontology Center\\nLanguages\\nEnglish (69)\", \"docid\": \"msmarco_v2.1_doc_00_4810\"}\n",
      "{\"url\": \"http://0-www.worldcat.org.novacat.nova.edu/identities/lccn-n85198091/\", \"title\": \"Museo Nacional de Bellas Artes (Cuba) [WorldCat Identities]\", \"headings\": \"Museo Nacional de Bellas Artes (Cuba)\\nMuseo Nacional de Bellas Artes (Cuba)\\nPalacio de Bellas Artes La Habana\\nLanguages\\n\", \"body\": \"Museo Nacional de Bellas Artes (Cuba) [WorldCat Identities]\\nMuseo Nacional de Bellas Artes (Cuba)\\nOverview\\nWorks:\\n357  works in  541  publications in  7  languages and  3,340  library holdings\\nGenres:\\nExhibition catalogs History Catalogs Conference papers and proceedings Guidebooks\\nRoles:\\nEditor\\nClassifications:\\nN6603, 709.72910904\\nPublication Timeline\\nBy Posthumously by About 1950\\u2026 1953\\u2026 1956\\u2026 1959\\u2026 1962\\u2026 1965\\u2026 1968\\u2026 1971\\u2026 1974\\u2026 1977\\u2026 1980\\u2026 1983\\u2026 1986\\u2026 1989\\u2026 1992\\u2026 1995\\u2026 1998\\u2026 2001\\u2026 2004\\u2026 2007\\u2026 2010\\u2026 2013\\u2026 2016\\u2026 2019\\u2026\\n\\nBy\\nPosthumously by\\nAbout\\n1950-1951\\n0\\n0\\n0\\n1951-1952\\n0\\n0\\n0\\n1952-1953\\n0\\n0\\n0\\n1953-1954\\n0\\n0\\n0\\n1954-1955\\n0\\n0\\n0\\n1955-1956\\n0\\n0\\n0\\n1956-1957\\n20\\n0\\n0\\n1957-1958\\n15\\n0\\n0\\n1958-1959\\n15\\n0\\n0\\n1959-1960\\n0\\n0\\n0\\n1960-1961\\n5\\n0\\n0\\n1961-1962\\n0\\n0\\n0\\n1962-1963\\n0\\n0\\n0\\n1963-1964\\n0\\n0\\n0\\n1964-1965\\n10\\n0\\n0\\n1965-1966\\n0\\n0\\n0\\n1966-1967\\n0\\n0\\n0\\n1967-1968\\n5\\n0\\n0\\n1968-1969\\n10\\n0\\n0\\n1969-1970\\n0\\n0\\n0\\n1970-1971\\n0\\n0\\n0\\n1971-1972\\n0\\n0\\n0\\n1972-1973\\n0\\n0\\n0\\n1973-1974\\n0\\n0\\n0\\n1974-1975\\n5\\n0\\n0\\n1975-1976\\n10\\n0\\n0\\n1976-1977\\n10\\n0\\n0\\n1977-1978\\n0\\n0\\n0\\n1978-1979\\n20\\n0\\n0\\n1979-1980\\n10\\n0\\n5\\n1980-1981\\n10\\n0\\n0\\n1981-1982\\n25\\n0\\n0\\n1982-1983\\n10\\n0\\n5\\n1983-1984\\n25\\n0\\n5\\n1984-1985\\n25\\n0\\n15\\n1985-1986\\n25\\n0\\n20\\n1986-1987\\n25\\n0\\n0\\n1987-1988\\n20\\n0\\n0\\n1988-1989\\n25\\n0\\n0\\n1989-1990\\n25\\n0\\n0\\n1990-1991\\n20\\n0\\n20\\n1991-1992\\n15\\n0\\n5\\n1992-1993\\n20\\n0\\n0\\n1993-1994\\n15\\n0\\n0\\n1994-1995\\n0\\n0\\n0\\n1995-1996\\n25\\n0\\n0\\n1996-1997\\n15\\n0\\n0\\n1997-1998\\n25\\n0\\n5\\n1998-1999\\n25\\n0\\n10\\n1999-2000\\n15\\n0\\n0\\n2000-2001\\n30\\n0\\n15\\n2001-2002\\n25\\n0\\n25\\n2002-2003\\n35\\n0\\n15\\n2003-2004\\n35\\n0\\n15\\n2004-2005\\n30\\n0\\n10\\n2005-2006\\n30\\n0\\n15\\n2006-2007\\n25\\n0\\n20\\n2007-2008\\n25\\n0\\n0\\n2008-2009\\n30\\n0\\n5\\n2009-2010\\n30\\n0\\n5\\n2010-2011\\n20\\n0\\n10\\n2011-2012\\n20\\n0\\n10\\n2012-2013\\n20\\n0\\n5\\n2013-2014\\n15\\n0\\n20\\n2014-2015\\n25\\n0\\n0\\n2015-2016\\n20\\n0\\n15\\n2016-2017\\n10\\n0\\n10\\n2017-2018\\n15\\n0\\n5\\n2018-2019\\n0\\n0\\n0\\n2019-2020\\n0\\n0\\n0\\n2020-2021\\n0\\n0\\n0\\nAbout\\nMost widely held works about  Museo Nacional de Bellas Artes (Cuba)\\nMuseo Nacional de Bellas Artes, La Habana, Cuba : coleccio\\u0301n de arte cubano by Museo Nacional de Bellas Artes (Cuba) (  Book  )\\nLa Habana : salas del Museo Nacional de Cuba, Palacio de Bellas Artes by Museo Nacional de Bellas Artes (Cuba) (  Book  )\\nVasos griegos, colleccio\\u0301n condes de Lagunillas by Ricardo Olmos Romera (  Book  )\\nCuba : vanguardias, 1920-1940 by Institut Valenci\\u00e0 d'Art Modern (  Book  )\\nColecciones de arte universal : Museo Nacional de Bellas Artes de Cuba by Museo Nacional de Bellas Artes (Cuba) (  Book  )\\nGui\\u0301a arte cubano : espan\\u0303ol by Museo Nacional de Bellas Artes (Cuba) (  Book  )\\nGrandes obras del Museo de Bellas Artes de La Habana : Coleccio\\u0301n del Museo Nacional de Bellas Artes de La Habana : Sala de  Exposiciones Musei\\u0301sticas Cajasur, Co\\u0301rdoba, 12 de abril-22 de mayo de 2005 by Museo Nacional de Bellas Artes (Cuba) (  Book  )\\nDe Vlaamse en Belgische schilderkunst in het Museo Nacional de Bellas Artes de Cuba = La pintura flamenca y belga en el Museo  Nacional de Bellas Artes de Cuba by Museo Nacional de Bellas Artes (Cuba) (  Book  )\\nAmelia Pela\\u0301ez : una mirada en retrospectiva, 1928-1966 = unha mirada en retrospectiva, 1928-1966 by Amelia Pel\\u00e1ez (  Book  )\\nLos pintores de Artal : pintura espan\\u0303ola del Museo de La Habana(  Book  )\\nHavanna : das Nationalmuseum der Scho\\u0308nen Ku\\u0308nste by Museo Nacional de Bellas Artes (Cuba) (  Book  )\\nRene\\u0301 Portocarrero : exposicio\\u0301n antolo\\u0301gica, Museo Espan\\u0303ol de Arte Contempora\\u0301neo de Madrid, diciembre 1984-enero 1985 by Ren\\u00e9 Portocarrero (  Book  )\\nGui\\u0301a arte europeo : espan\\u0303ol by Museo Nacional de Bellas Artes (Cuba) (  Book  )\\nCuba : Rene\\u0301 Portocarrero : vingt peintres contemporains : Galerie de l'esplanade de la De\\u0301fense, 29 mai-30 juin 1984 by Museo Nacional de Bellas Artes (Cuba) (  Book  )\\nEscuela de la Habana : tradicio\\u0301n y modernidad : mayo-junio 2004 : coleccio\\u0301n del Museo Nacional de Bellas Artes de la Habana(  Book  )\\nVi\\u0301ctor Patricio Landaluze by L\\u00e1zara Castellanos (  Book  )\\nPintura espan\\u0303ola del s. XIX en el Museo Nacional de Cuba : Planetario de Pamplona, 2 de octubre -a 10 de noviembre de 2002 by Manuel Crespo (  Book  )\\nEls Sorolla de l'Havana : Ajuntament de Barcelona, Museu d'Art Modern de Barcelona, marc\\u0327-abril 1985(  Book  )\\nArte de la antigu\\u0308edad : salas del Museo Nacional de Bellas Artes by Museo Nacional de Bellas Artes (Cuba) (  Book  )\\nEl Museo Nacional de Bellas Artes de La Habana y la coleccio\\u0301n de retratos de la pintura espan\\u0303ola del siglo XIX by Martha Elizabeth Laguna Enrique (  )\\nmore\\nfewer\\nMost widely held works by  Museo Nacional de Bellas Artes (Cuba)\\nCuba : art and history, from 1868 to today by Nathalie Bondil (  Book  )\\n5  editions published  between 2008 and  2009  in English and held by  644 WorldCat member  libraries  worldwide\\n\\\"This panorama of Cuban art is illustrated with more than 400 reproduction of all types of works, including painting, drawings,  posters, photographs, installations, videos and an exceptional collective painting produced in 1967 by about a hundred artists  from all over the world. Comprising essays written by twenty experts of all nationalities, this catalogue accompanies the  exhibition presented at by the Montreal Museum of Fine Arts in partnership with the Museo Nacional de Bellas Artes and the  Fotoeca de Cuba in Havana.\\\"--Jacket\\nLos Carpinteros(  Book  )\\n4  editions published  in 2003 in Spanish and held by  64 WorldCat member  libraries  worldwide\\nCata\\u0301logo de los vasos griegos del Museo Nacional de Bellas Artes de La Habana by Ricardo Olmos Romera (  Book  )\\n4  editions published  in 1993 in Spanish and held by  45 WorldCat member  libraries  worldwide\\nWifredo Lam by Wifredo Lam (  Book  )\\n4  editions published  in 1997 in Spanish and English and held by  41 WorldCat member  libraries  worldwide\\nI tre secoli d'oro della pittura napoletana: da Battistello Caracciolo a Giacinto Gigante : La Habana, Museo Nacional de Bellas  Artes, 23 novembre 2002-15 febbraio 2003(  Book  )\\n5  editions published  in 2002 in Italian and held by  39 WorldCat member  libraries  worldwide\\nWifredo Lam, 1902-1982 : obra sobre papel : coleccio\\u0301n Museo Nacional, Palacio de Bellas Artes, Habana, Cuba : junio-octubre  1992, Fundacio\\u0301n Cultural Televisa, AC by Wifredo Lam (  Book  )\\n2  editions published  in 1992 in Spanish and held by  37 WorldCat member  libraries  worldwide\\nTodos los colores de Mariano by Mariano Rodr\\u00edguez (  Book  )\\n3  editions published  in 2000 in Spanish and held by  36 WorldCat member  libraries  worldwide\\nMuseo Nacional de Bellas Artes : historia de un proyecto by Jos\\u00e9 Linares (  Book  )\\n4  editions published  between 2001 and  2003  in Spanish and held by  35 WorldCat member  libraries  worldwide\\nCuba art et histoire de 1868 a\\u0300 nos jours by Nathalie Bondil (  Book  )\\n6  editions published  in 2008 in Spanish and French and held by  34 WorldCat member  libraries  worldwide\\nMariano : una energi\\u0301a voluptuosa by Mariano Rodr\\u00edguez (  Book  )\\n3  editions published  in 1998 in Spanish and held by  34 WorldCat member  libraries  worldwide\\nNovecento cubano : la naturaleza, el hombre, los dioses by Museo Nacional de Cuba (  Book  )\\n2  editions published  in 1995 in Italian and held by  34 WorldCat member  libraries  worldwide\\n\\\"Catalog of the Cuban exhibition presented in Italy with the sponsorship of the Cuban Embassy. Selections for the exhibition  came from the 20th-century holdings of the Museo Nacional de Cuba. Exhibition included modern masters such as Lam and Pela\\u0301ez,  in addition to some interesting contemporary artists not very well known internationally\\\"--Handbook of Latin American Studies,  v. 58\\nMirar a los 60 : antologi\\u0301a cultural de una de\\u0301cada : Museo Nacional de Bellas Artes, 9 de julio-31 de agosto de 2004 by Exposicion Mirar a los 60 (  Book  )\\n4  editions published  in 2004 in Spanish and held by  33 WorldCat member  libraries  worldwide\\nFajardo by Jos\\u00e9 Luis Fajardo (  Book  )\\n2  editions published  in 2002 in Spanish and held by  32 WorldCat member  libraries  worldwide\\nLa razo\\u0301n de la poesi\\u0301a : arte concreto : exposicio\\u0301n en el Museo Nacional de Bellas Artes, Coleccio\\u0301n Arte Cubano, La Habana  : 6 de diciembre de 2002 - 9 de febrero de 2003(  Book  )\\n3  editions published  in 2002 in Spanish and held by  30 WorldCat member  libraries  worldwide\\nEugenio Lucas Vela\\u0301zquez en la Habana : Madrid, 20 febrero-21 abril 1996 by Eugenio Lucas (  Book  )\\n1  edition published  in 1996 in Spanish and held by  30 WorldCat member  libraries  worldwide\\n\\\"Catalog of the 34 paintings from Havana's Museo Nacional de Bellas Artes, originally from the collection of Rafael Carvajal,  Marques de Pinar del Rio, who inaugurated the museum in 1955. Manuel Crespo Larraza\\u0301bal wrote the insightful text, which sheds  light on the Spanish painter whose work shows strong influence from Goya, and who was active in the third quarter of the 19th  century. Excellent reproductions with complete data\\\"--Handbook of Latin American Studies, v. 58\\n1er Salo\\u0301n de Arte Cubano Contempora\\u0301neo by Sal\\u00f3n de Arte Cubano Contempor\\u00e1neo (  Book  )\\n1  edition published  in 1995 in Spanish and held by  29 WorldCat member  libraries  worldwide\\nWilfredo Prieto by Wilfredo Prieto (  Book  )\\n2  editions published  in 2014 in English and held by  27 WorldCat member  libraries  worldwide\\nMarcelo Pogolotti : un pintor cubano con los futuristas italianos : obras de Fillia, Enrico Prampolini, Farfa, Nicolaj Diulgheroff,  y Marcelo Pogolotti by Marcelo Pogolotti (  Book  )\\n5  editions published  in 2002 in Spanish and held by  27 WorldCat member  libraries  worldwide\\nQue\\u0301 le importa al tigre una raya ma\\u0301s : the futility of good intentions by Ricardo Rodr\\u00edguez Brey (  Book  )\\n1  edition published  in 2014 in English and held by  27 WorldCat member  libraries  worldwide\\nEvento teo\\u0301rico Forum Arte-Vida : La Habana, del 3 al 5 noviembre del 2003 by Bienal de La Habana (  Book  )\\n2  editions published  in 2003 in Spanish and held by  25 WorldCat member  libraries  worldwide\\nmore\\nfewer\\nAudience Level\\n0\\n\\n1\\n\\nKids\\nGeneral\\nSpecial\\n\\nAudience level: 0.62 (from 0.34  for Cuba : art ... to 0.87  for Cata\\u0301logo ...)\\nUseful Links\\nLibrary of Congress Authority File (English)\\nVirtual International Authority File.\\nAssociated Subjects\\nArt Art, Abstract Art, Cuban Art, European Art, Modern Art and society Art museums--Conservation and restoration Art objects Art--Private collections Arts, Cuban Arts, Modern Avant-garde (Aesthetics) Buildings--Remodeling for other use Carpinteros (Group of artists) Concrete art Cuba Cuba--Havana Fajardo, Jose\\u0301 Luis, Filli\\u0300a, Futurism (Art) Gaze in art Guma\\u0301, Joaqui\\u0301n,--Conde de Lagunillas, Italy Italy--Naples Lam, Wifredo Landaluze, Vi\\u0301ctor Patricio de, Lucas, Eugenio, Museo Nacional de Bellas Artes (Cuba) Museo Nacional de Bellas Artes (Cuba).--Museo de Arte Universal Museo Nacional de Cuba Mythology, Greek, in art Painters Painting Painting, Abstract Painting, Belgian Painting, Cuban Painting, Flemish Painting, Italian Painting, Italian--Themes, motives Painting, Spanish Palazzo Bricherasio (Turin, Italy) Pela\\u0301ez, Amelia, Pogolotti, Marcelo, Portocarrero, Rene\\u0301, Prieto, Wilfredo, Rodri\\u0301guez, Mariano, Rodri\\u0301guez Brey, Ricardo, Vases Vases, Greek Vases--Private collections\\nAlternative Names\\nMuseo Nacional de Cuba\\nArte Ederretako Museo Nazionala La Habana\\nCuba Museo Nacional de Bellas Artes\\nHabanako Arte Ederretako Museo Nazionala\\nMus\\u00e9e national des beaux-arts (Cuba)\\nMus\\u00e9e national des beaux-arts de La Havane\\nMus\\u00e9e National Havane\\nMus\\u00e9e National La Habana\\nMuseo de Bellas Artes de La Habana\\nMuseo de La Habana\\nMuseo Nacional de Bellas Artes (Cuba) Arte Cubano\\nMuseo Nacional de Bellas Artes (Cuba) Edificio Arte Cubano\\nMuseo Nacional de Bellas Artes (Cuba) Museo de Arte Cubano\\nMuseo Nacional de Bellas Artes de Cuba\\nMuseo Nacional de Bellas Artes de la Habana\\nMuseo Nacional de Cuba\\nMuseo Nacional de Cuba La Habana\\nMuseo Nacional de La Habana\\nMuseo Nacional La Habana\\nMuseo Nacional Palacio de Bellas Artes (Cuba)\\nMuseo Nacional Palacio de Bellas Artes de La Habana\\nMuseo Nacional Palacio de Bellas Artes La Habana\\nMuseu Nacional de Belles Arts (Cuba)\\nMuseu Nacional de Belles Arts La Habana\\nNacional'nyj Muzej Izja\\u0161\\u010dnych Iskusstv Gabana\\nNacional'nyj Muzej Izja\\u0161\\u010dnych Iskusstv La Habana\\nNational Museum La Habana\\nNational Museum of Fine Arts (Cuba)\\nNationalmuseum der Sch\\u00f6nen K\\u00fcnste (Cuba)\\nNationalmuseum der Sch\\u00f6nen K\\u00fcnste La Habana\\nNationalmuseum der Sch\\u00f6nen K\\u00fcnste von Havanna\\nNat\\ufe20s\\ufe21ional\\u02b9ny\\u012d muze\\u012d izi\\ufe20a\\ufe21shchnykh iskusstv (Cuba)\\nNat\\ufe20s\\ufe21ional\\u02b9ny\\u012d muze\\u012d izi\\ufe20a\\ufe21shchnykh iskusstv Gavana\\nPalacio de Bellas Artes (Cuba)\\nPalacio de Bellas Artes La Habana\\nPalacio Nacional de Bellas Artes (Cuba)\\nLanguages\\nSpanish (98)\\nEnglish (9)\\nItalian (7)\\nFrench (5)\\nDutch (3)\\nGerman (1)\\nCatalan (1)\\nCovers\", \"docid\": \"msmarco_v2.1_doc_00_18906\"}\n",
      "{\"url\": \"http://00000.extensionfile.net/\", \"title\": \"\", \"headings\": \"\\n\", \"body\": \"File extension 00000 is used by operating systems to recognize files with content of type 00000. Here is some information which will get you started.\\nOpen 00000 File\\nOpen 00000 File\\nTo open 00000 file you need to find an application which works with that kind of file. 00000 file extension is used by operating systems to recognize files with content of type 00000. Here is some information which will get you started.\\nHow to Open 00000 file\\nTo see if you have an application which support 00000 file format you need to double click on the file.\\nThis will either open it with matching application or Windows will suggest you to look for an application for file extension 00000 either on web or on local computer.\\nIf there is no application on your computer which can open 00000 files you need to search on the internet which application can open 00000 files.\\nWhat is 00000 File?\\nFile extensions help computers locate correct application for specific files. Operating systems will not look into the content of the files to be opened, but instead, it will immediately locate the file extension of the file and locate for associated application that can open 00000 files. This helps the computer to organize its functions and work much faster. Most operating systems (Windows) require the use of file extensions, but others do not (Unix).\\nThese file extensions are also beneficial for us. By simply looking at the filename, we can determine what type of information is stored to that and what applications can open these files. Have you noticed that when your computer acquires an unknown file, it will ask your permission to look for associated program to open it or look for these programs over the Internet? Yes! These file extensions make the work of the computer easy. Once there is no application associated with the file, then the computer will immediately ask the users assistance to help look for the source files.\\n00000 File Applications\\nIf you know which application opens file extension 00000 and it is not mentioned on our site please e-mail us via contact form.\\nFor more information on how to open 00000 files read other articles on this website.\\nOpen 00000 File on Windows\\nFind a 00000 file in question in Windows OS File Explorer and double click on it to launch the correpsonding application.\\nIf a 00000 file is not opened in an application and you instead get a \\\"Windows can't open a file\\\" error message you should try looking for an application which can open the file in question.\\nIf you know the application which can open 00000 file then run it and see if there is a File->Open main menu option in the application.\\nIf you don't know the application which can open 00000 file then try to search for \\\"00000 wiki\\\", \\\"application to open 00000 file\\\" or \\\"open 00000 file\\\" queries in the search engine you like.\\nInstall the application you found and check if it can open 00000 file\\nRate 00000 filepage:\\n54321 \\n4/5based on 27ratings\\nPopulating this website with information and maintaining it is an ongoing process. We always welcome feedback and questions that can be submitted by visiting Contact Us page. However since there are many users visiting this website and because our team is quite small we may not be able to follow up personally on every request. Thank you for your understanding.\\nOpen 00000 file article translations\\nFor more general information about how to open 00000 files, file extension 00000 and registry you can read one of the following articles:\\nWindows registry- Windows registry is included in modern Windows operating\\nsystems to replace the older INI files which also contained system configuration. Let's concentrate on the structure and purpose of Windows System\\nRegistry, review some possible attacks to it and ways to avoid them...\\nFolders, files and paths- Files are the entries or information stored on your\\ncomputer. These are represented by binary coding and written on the tracks on a disk. Files are often represented by distinct icons, a normal practice done by\\nMicrosoft with their products including system files for their series of operating systems...\\nWhat are file extensions? - File extensions are unnoticed yet are very crucial parts of\\nthe computer world. But many are still unaware of the basic foundation and principles behind the remarkable wonders of computers...\\n\\u00a9 Copyright 2021 extensionfile.net Privacy Policy. Terms of Service\", \"docid\": \"msmarco_v2.1_doc_00_32860\"}\n",
      "{\"url\": \"http://00001.extensionfile.net/\", \"title\": \"Open 00001 File\", \"headings\": \"Open 00001 File\\nOpen 00001 File\\nHow to Open 00001 file\\nWhat is 00001 File?\\n00001 File Applications\\n\", \"body\": \"Open 00001 File\\n\\nOpen 00001 File\\nTo open 00001 file you need to find an application which works with that kind of file. 00001 file extension is used by operating systems to recognize files with content of type 00001. Here is some information which will get you started.\\nHow to Open 00001 file\\nTo see if you have an application which support 00001 file format you need to double click on the file.\\nThis will either open it with matching application or Windows will suggest you to look for an application for file extension 00001 either on web or on local computer.\\nIf there is no application on your computer which can open 00001 files you need to search on the internet which application can open 00001 files.\\nWhat is 00001 File?\\nFile extensions help computers locate correct application for specific files. Operating systems will not look into the content of the files to be opened, but instead, it will immediately locate the file extension of the file and locate for associated application that can open 00001 files. This helps the computer to organize its functions and work much faster. Most operating systems (Windows) require the use of file extensions, but others do not (Unix).\\nThese file extensions are also beneficial for us. By simply looking at the filename, we can determine what type of information is stored to that and what applications can open these files. Have you noticed that when your computer acquires an unknown file, it will ask your permission to look for associated program to open it or look for these programs over the Internet? Yes! These file extensions make the work of the computer easy. Once there is no application associated with the file, then the computer will immediately ask the users assistance to help look for the source files.\\n00001 File Applications\\nIf you know which application opens file extension 00001 and it is not mentioned on our site please e-mail us via contact form.\\nFor more information on how to open 00001 files read other articles on this website.\", \"docid\": \"msmarco_v2.1_doc_00_37424\"}\n",
      "----------------\n",
      "{\"docid\": \"msmarco_v2.1_doc_00_0#0_0\", \"url\": \"http://0-60.reviews/0-60-times/\", \"title\": \"0-60 Times - 0-60 | 0 to 60 Times & 1/4 Mile Times | Zero to 60 Car Reviews\", \"headings\": \"0-60 Times\\n0-60 Times\", \"segment\": \"0-60 Times - 0-60 | 0 to 60 Times & 1/4 Mile Times | Zero to 60 Car Reviews\\n0-60 Times\\nThere are many ways to measure the power a vehicle has \\u2013 top speed, horsepower, foot-pounds of torque. Those are all important, but the most asked question is, \\u201cWhat\\u2019s the 0-60 time?\\u201d This is nothing more than a measure of how quickly a vehicle can reach the 60 mile per hour mark. It is a measure of acceleration of a vehicle. 0-60 times differ a great deal depending on the amount of power a motor puts out, of course. But anyone who spends any amount of time with car enthusiasts are sure to hear the ubiquitous term bantered around more often than most other metrics by which cars are measured in terms of power. The only other measure that comes close as far as how acceleration is commonly measures in cars in the United States is the quarter mile time. Enthusiasts will often ask about how quickly a car can get through a quarter mile, but that can be seen as less accurate a estimate of acceleration than the amount of time it takes a vehicle to reach the sixty miler per hour mark. The quarter mile time can often have more variable such as driver experience. The 0-60 mph speed is used as the standard in the United States, where the rest of the world prefers the 0-100 km version.\", \"start_char\": 0, \"end_char\": 1278}\n",
      "{\"docid\": \"msmarco_v2.1_doc_00_0#1_1557\", \"url\": \"http://0-60.reviews/0-60-times/\", \"title\": \"0-60 Times - 0-60 | 0 to 60 Times & 1/4 Mile Times | Zero to 60 Car Reviews\", \"headings\": \"0-60 Times\\n0-60 Times\", \"segment\": \"But anyone who spends any amount of time with car enthusiasts are sure to hear the ubiquitous term bantered around more often than most other metrics by which cars are measured in terms of power. The only other measure that comes close as far as how acceleration is commonly measures in cars in the United States is the quarter mile time. Enthusiasts will often ask about how quickly a car can get through a quarter mile, but that can be seen as less accurate a estimate of acceleration than the amount of time it takes a vehicle to reach the sixty miler per hour mark. The quarter mile time can often have more variable such as driver experience. The 0-60 mph speed is used as the standard in the United States, where the rest of the world prefers the 0-100 km version. But both measure the performance of a car. A lot goes into increasing 0-60 times in performance vehicles. As a normal rule of thumb, performance cars are considered those with 0-60 time of under 6 seconds, while Exotic cars will do 0-60 in 3 to 4 seconds. However, in most cases, a car isn\\u2019t simply \\u201cstuck with\\u201d the acceleration number with which it was born. Engineers and designers work tirelessly to provide better and better numbers with each progressive model of performance and exotic cars.\", \"start_char\": 508, \"end_char\": 1775}\n",
      "{\"docid\": \"msmarco_v2.1_doc_00_0#2_3101\", \"url\": \"http://0-60.reviews/0-60-times/\", \"title\": \"0-60 Times - 0-60 | 0 to 60 Times & 1/4 Mile Times | Zero to 60 Car Reviews\", \"headings\": \"0-60 Times\\n0-60 Times\", \"segment\": \"But both measure the performance of a car. A lot goes into increasing 0-60 times in performance vehicles. As a normal rule of thumb, performance cars are considered those with 0-60 time of under 6 seconds, while Exotic cars will do 0-60 in 3 to 4 seconds. However, in most cases, a car isn\\u2019t simply \\u201cstuck with\\u201d the acceleration number with which it was born. Engineers and designers work tirelessly to provide better and better numbers with each progressive model of performance and exotic cars. But, even the back yard mechanic or muscle car enthusiast can determine the 0-60 times of their cars and make moves to improve them. The testing of acceleration is usually done on a closed course away from people other than the team that may be working on the specific car. This limits putting anyone in danger who is not part of the test or the ongoing project. Testers can use something as simple as a stop watch and the vehicle\\u2019s speedometer. This is probably good enough for the typical muscle car enthusiast who is just looking for an estimate of how much power his latest improvements will give him.\", \"start_char\": 1279, \"end_char\": 2381}\n",
      "{\"docid\": \"msmarco_v2.1_doc_00_0#3_4486\", \"url\": \"http://0-60.reviews/0-60-times/\", \"title\": \"0-60 Times - 0-60 | 0 to 60 Times & 1/4 Mile Times | Zero to 60 Car Reviews\", \"headings\": \"0-60 Times\\n0-60 Times\", \"segment\": \"But, even the back yard mechanic or muscle car enthusiast can determine the 0-60 times of their cars and make moves to improve them. The testing of acceleration is usually done on a closed course away from people other than the team that may be working on the specific car. This limits putting anyone in danger who is not part of the test or the ongoing project. Testers can use something as simple as a stop watch and the vehicle\\u2019s speedometer. This is probably good enough for the typical muscle car enthusiast who is just looking for an estimate of how much power his latest improvements will give him. For engineers testing a new exotic sports car, though, a simple estimate is not accurate enough. They want hard and fast 0-60 times, and they use much more highly-technical equipment to get their numbers. With the 0-60 figure being so important in automobile sales, they do everything possible to ensure their numbers are incredibly accurate. In professional testing situations, highly technical and accurate measuring devices are hooked to computers as the test is performed. The test is run in two different directions, to eliminate any influence of wind, an unseen downhill grade or any differences in traction.\", \"start_char\": 1776, \"end_char\": 2996}\n",
      "{\"docid\": \"msmarco_v2.1_doc_00_0#4_5974\", \"url\": \"http://0-60.reviews/0-60-times/\", \"title\": \"0-60 Times - 0-60 | 0 to 60 Times & 1/4 Mile Times | Zero to 60 Car Reviews\", \"headings\": \"0-60 Times\\n0-60 Times\", \"segment\": \"For engineers testing a new exotic sports car, though, a simple estimate is not accurate enough. They want hard and fast 0-60 times, and they use much more highly-technical equipment to get their numbers. With the 0-60 figure being so important in automobile sales, they do everything possible to ensure their numbers are incredibly accurate. In professional testing situations, highly technical and accurate measuring devices are hooked to computers as the test is performed. The test is run in two different directions, to eliminate any influence of wind, an unseen downhill grade or any differences in traction. The average of these two times will be the recorded 0-60 time for the car. Doppler radar guns are used to ensure the tester is recording exact 0 -60 times. This leaves the driver to focus solely on running through the gears as precisely as possible and simply driving in a straight line. This allow for a more accurate measure, as does running the test first in one direction and then in the exact opposite direction. Some still feel, however, that listing one 0 \\u2013 60 time is not truly indicative of what a new owner can expect from a performance or exotic car, or even a muscle car.\", \"start_char\": 2382, \"end_char\": 3580}\n",
      "{\"docid\": \"msmarco_v2.1_doc_00_0#5_7440\", \"url\": \"http://0-60.reviews/0-60-times/\", \"title\": \"0-60 Times - 0-60 | 0 to 60 Times & 1/4 Mile Times | Zero to 60 Car Reviews\", \"headings\": \"0-60 Times\\n0-60 Times\", \"segment\": \"The average of these two times will be the recorded 0-60 time for the car. Doppler radar guns are used to ensure the tester is recording exact 0 -60 times. This leaves the driver to focus solely on running through the gears as precisely as possible and simply driving in a straight line. This allow for a more accurate measure, as does running the test first in one direction and then in the exact opposite direction. Some still feel, however, that listing one 0 \\u2013 60 time is not truly indicative of what a new owner can expect from a performance or exotic car, or even a muscle car. Instead, some believe the measure should include a range of times rather than one finite mark to which all cars of any particular model should be held. For instance, they believe a BMW M3 should have a listed time of 3.9 \\u2013 4.2 seconds and a Corvette Z06 should have a range from 3.6 to 4.0. These people believe that a range of numbers better represents what an owner can honestly expect to see when he or she takes delivery of a new vehicle. This contingent of car enthusiasts and engineers believes that there is no way for either the time to 60 mph or even a quarter mile time to be completely accurate, as there are simply too many variables that come into play. No matter if you are a 0 \\u2013 60 purist, or you believe that it is an inexact science, you can be sure that the measure itself will not be going away any time soon.\", \"start_char\": 2997, \"end_char\": 4409}\n",
      "{\"docid\": \"msmarco_v2.1_doc_00_0#6_9130\", \"url\": \"http://0-60.reviews/0-60-times/\", \"title\": \"0-60 Times - 0-60 | 0 to 60 Times & 1/4 Mile Times | Zero to 60 Car Reviews\", \"headings\": \"0-60 Times\\n0-60 Times\", \"segment\": \"Instead, some believe the measure should include a range of times rather than one finite mark to which all cars of any particular model should be held. For instance, they believe a BMW M3 should have a listed time of 3.9 \\u2013 4.2 seconds and a Corvette Z06 should have a range from 3.6 to 4.0. These people believe that a range of numbers better represents what an owner can honestly expect to see when he or she takes delivery of a new vehicle. This contingent of car enthusiasts and engineers believes that there is no way for either the time to 60 mph or even a quarter mile time to be completely accurate, as there are simply too many variables that come into play. No matter if you are a 0 \\u2013 60 purist, or you believe that it is an inexact science, you can be sure that the measure itself will not be going away any time soon. It is still one of the biggest touted numbers for vehicles, and easier for people to relate to than horsepower and torque.\", \"start_char\": 3581, \"end_char\": 4532}\n",
      "{\"docid\": \"msmarco_v2.1_doc_00_4810#0_10354\", \"url\": \"http://0-www.worldcat.org.novacat.nova.edu/identities/lccn-n79036869/\", \"title\": \"Ethel Percy Andrus Gerontology Center [WorldCat Identities]\", \"headings\": \"Ethel Percy Andrus Gerontology Center\\nEthel Percy Andrus Gerontology Center\\nAndrus (Ethel Percy) Gerontology Center\\nAndrus Gerontology Center\\nAndrus Gerontology Center Los Angeles, Calif\\nEthel Percy Andrus Gerontology Center\\nUniversity of Southern California Andrus Gerontology Center\\nUniversity of Southern California Ethel Percy Andrus Gerontology Center\\nUniversity of Southern California Ethel Perey Andrus gerontology center\\nUniversity of Southern California Los Angeles, Calif Andrus Gerontology Center\\nUniversity of Southern California Los Angeles, Calif Ethel Percy Andrus Gerontology Center\\nLanguages\\n\", \"segment\": \"Ethel Percy Andrus Gerontology Center [WorldCat Identities]\\nEthel Percy Andrus Gerontology Center\\nOverview\\nWorks: 233  works in  338  publications in  1  language and  6,766  library holdings\\nGenres: Bibliography Conference papers and proceedings Bibliographies Prescriptions, formulae, receipts, etc\\nRoles: Publisher\\nClassifications: HQ1061, 305.26\\nPublication Timeline\\nBy Posthumously by About 1960\\u2026 1963\\u2026 1966\\u2026 1969\\u2026 1972\\u2026 1975\\u2026 1978\\u2026 1981\\u2026 1984\\u2026 1987\\u2026 1990\\u2026 1993\\u2026 1996\\u2026 1999\\u2026 2002\\u2026 2005\\u2026 2008\\u2026\\n\\nBy\\nPosthumously by\\nAbout\\n1960-1961\\n0\\n0\\n0\\n1961-1962\\n0\\n0\\n0\\n1962-1963\\n0\\n0\\n0\\n1963-1964\\n0\\n0\\n0\\n1964-1965\\n0\\n0\\n0\\n1965-1966\\n0\\n0\\n0\\n1966-1967\\n0\\n0\\n0\\n1967-1968\\n0\\n0\\n0\\n1968-1969\\n0\\n0\\n0\\n1969-1970\\n10\\n0\\n5\\n1970-1971\\n0\\n0\\n0\\n1971-1972\\n10\\n0\\n0\\n1972-1973\\n25\\n0\\n0\\n1973-1974\\n35\\n0\\n5\\n1974-1975\\n25\\n0\\n0\\n1975-1976\\n35\\n0\\n5\\n1976-1977\\n25\\n0\\n5\\n1977-1978\\n30\\n0\\n0\\n1978-1979\\n20\\n0\\n5\\n1979-1980\\n30\\n0\\n0\\n1980-1981\\n25\\n0\\n0\\n1981-1982\\n30\\n0\\n0\\n1982-1983\\n25\\n0\\n0\\n1983-1984\\n25\\n0\\n0\\n1984-1985\\n20\\n0\\n0\\n1985-1986\\n25\\n0\\n5\\n1986-1987\\n20\\n0\\n0\\n1987-1988\\n20\\n0\\n0\\n1988-1989\\n25\\n0\\n0\\n1989-1990\\n20\\n0\\n0\\n1990-1991\\n20\\n0\\n0\\n1991-1992\\n25\\n0\\n0\\n1992-1993\\n5\\n0\\n0\\n1993-1994\\n20\\n0\\n0\\n1994-1995\\n15\\n0\\n0\\n1995-1996\\n10\\n0\\n0\\n1996-1997\\n10\\n0\\n0\\n1997-1998\\n15\\n0\\n0\\n1998-1999\\n0\\n0\\n0\\n1999-2000\\n0\\n0\\n0\\n2000-2001\\n0\\n0\\n0\\n2001-2002\\n5\\n0\\n0\\n2002-2003\\n0\\n0\\n0\\n2003-2004\\n15\\n0\\n0\\n2004-2005\\n5\\n0\\n0\\n2005-2006\\n5\\n0\\n0\\n2006-2007\\n0\\n0\\n0\\n2007-2008\\n0\\n0\\n0\\n2008-2009\\n10\\n0\\n0\\n2009-2010\\n0\\n0\\n0\\n2010-2011\\n0\\n0\\n0\\nAbout\\nMost widely held works about  Ethel Percy Andrus Gerontology Center\\nCatalogs of the Ethel Percy Andrus Gerontology Center, University of Southern California, Los Angeles by Ethel Percy Andrus Gerontology Center (  Book  )\\nEnvironmental design for the elderly training program : progress report(  Book  )\\nHandbook by Ethel Percy Andrus Gerontology Center (  Book  )\\nEvaluation of an information and referral program : caller profiles and resource materials by Christine Anne Wolfe (  )\\nThe Work of the Andrus Gerontology Center : what we do and what it means for older people : statements from the faculty and  students for the congressional hearings held by Select Subcommittee on Education, U.S. Congress, Hon. John Brademas, Chairman by Ethel Percy Andrus Gerontology Center (  Book  )\\nA grant application for the construction of a gerontology center, University of Southern California :\", \"start_char\": 0, \"end_char\": 2264}\n",
      "{\"docid\": \"msmarco_v2.1_doc_00_4810#1_13812\", \"url\": \"http://0-www.worldcat.org.novacat.nova.edu/identities/lccn-n79036869/\", \"title\": \"Ethel Percy Andrus Gerontology Center [WorldCat Identities]\", \"headings\": \"Ethel Percy Andrus Gerontology Center\\nEthel Percy Andrus Gerontology Center\\nAndrus (Ethel Percy) Gerontology Center\\nAndrus Gerontology Center\\nAndrus Gerontology Center Los Angeles, Calif\\nEthel Percy Andrus Gerontology Center\\nUniversity of Southern California Andrus Gerontology Center\\nUniversity of Southern California Ethel Percy Andrus Gerontology Center\\nUniversity of Southern California Ethel Perey Andrus gerontology center\\nUniversity of Southern California Los Angeles, Calif Andrus Gerontology Center\\nUniversity of Southern California Los Angeles, Calif Ethel Percy Andrus Gerontology Center\\nLanguages\\n\", \"segment\": \"progress report(  Book  )\\nHandbook by Ethel Percy Andrus Gerontology Center (  Book  )\\nEvaluation of an information and referral program : caller profiles and resource materials by Christine Anne Wolfe (  )\\nThe Work of the Andrus Gerontology Center : what we do and what it means for older people : statements from the faculty and  students for the congressional hearings held by Select Subcommittee on Education, U.S. Congress, Hon. John Brademas, Chairman by Ethel Percy Andrus Gerontology Center (  Book  )\\nA grant application for the construction of a gerontology center, University of Southern California : submitted to U.S. Department  of Health, Education, and Welfare, Public Health Service, Health Research Facilities Branch, Division of Research Facilities  and Resources, National Institutes of Health, Bethesda, Maryland by University of Southern California (  Book  )\\nmore\\nfewer\\nMost widely held works by  Ethel Percy Andrus Gerontology Center\\nAging : scientific perspectives and social issues by Ethel Percy Andrus Gerontology Center (  Book  )\\n5  editions published  between 1975 and  1983  in English and held by  873 WorldCat member  libraries  worldwide\\nCognition, stress, and aging(  Book  )\\n3  editions published  in 1985 in English and held by  564 WorldCat member  libraries  worldwide\\nDealing with death : discussions of death presented for those concerned with the delivery of care service for the elderly(  Book  )\\n3  editions published  between 1973 and  1978  in English and held by  373 WorldCat member  libraries  worldwide\\nDepression in the elderly : a behavioral treatment manual by Dolores Gallagher-Thompson (  Book  )\\n4  editions published  in 1981 in English and held by  222 WorldCat member  libraries  worldwide\\nNational Eldercare Institute on Housing and Supportive Services : final report by Julie Overton (  Book  )\\n1  edition published  in 1995 in English and held by  215 WorldCat member  libraries  worldwide\\nPsychosocial needs of the aged:\", \"start_char\": 1653, \"end_char\": 3636}\n",
      "{\"docid\": \"msmarco_v2.1_doc_00_4810#2_16701\", \"url\": \"http://0-www.worldcat.org.novacat.nova.edu/identities/lccn-n79036869/\", \"title\": \"Ethel Percy Andrus Gerontology Center [WorldCat Identities]\", \"headings\": \"Ethel Percy Andrus Gerontology Center\\nEthel Percy Andrus Gerontology Center\\nAndrus (Ethel Percy) Gerontology Center\\nAndrus Gerontology Center\\nAndrus Gerontology Center Los Angeles, Calif\\nEthel Percy Andrus Gerontology Center\\nUniversity of Southern California Andrus Gerontology Center\\nUniversity of Southern California Ethel Percy Andrus Gerontology Center\\nUniversity of Southern California Ethel Perey Andrus gerontology center\\nUniversity of Southern California Los Angeles, Calif Andrus Gerontology Center\\nUniversity of Southern California Los Angeles, Calif Ethel Percy Andrus Gerontology Center\\nLanguages\\n\", \"segment\": \"submitted to U.S. Department  of Health, Education, and Welfare, Public Health Service, Health Research Facilities Branch, Division of Research Facilities  and Resources, National Institutes of Health, Bethesda, Maryland by University of Southern California (  Book  )\\nmore\\nfewer\\nMost widely held works by  Ethel Percy Andrus Gerontology Center\\nAging : scientific perspectives and social issues by Ethel Percy Andrus Gerontology Center (  Book  )\\n5  editions published  between 1975 and  1983  in English and held by  873 WorldCat member  libraries  worldwide\\nCognition, stress, and aging(  Book  )\\n3  editions published  in 1985 in English and held by  564 WorldCat member  libraries  worldwide\\nDealing with death : discussions of death presented for those concerned with the delivery of care service for the elderly(  Book  )\\n3  editions published  between 1973 and  1978  in English and held by  373 WorldCat member  libraries  worldwide\\nDepression in the elderly : a behavioral treatment manual by Dolores Gallagher-Thompson (  Book  )\\n4  editions published  in 1981 in English and held by  222 WorldCat member  libraries  worldwide\\nNational Eldercare Institute on Housing and Supportive Services : final report by Julie Overton (  Book  )\\n1  edition published  in 1995 in English and held by  215 WorldCat member  libraries  worldwide\\nPsychosocial needs of the aged: selected papers(  Book  )\\n2  editions published  in 1973 in English and held by  205 WorldCat member  libraries  worldwide\\nPsychosocial needs of the aged : a health care perspective by Eugene Seymour (  Book  )\\n2  editions published  in 1978 in English and held by  202 WorldCat member  libraries  worldwide\\nDetermining the impact of gerontology preparation on personnel in the aging network : a national survey by David A Peterson (  Book  )\\n4  editions published  in 1991 in English and held by  194 WorldCat member  libraries  worldwide\\nGerontology instruction in American institutions of higher education : a national survey by David A Peterson (  Book  )\\n3  editions published  in 1987 in English and held by  186 WorldCat member  libraries  worldwide\\nThe publication summarizes a report on gerontology instruction in American institutions based on a 1985-1986 survey of over  3000 campuses. The summary examines previous knowledge of gerontology instruction and explains the purpose for the national  survey, its design and goals, the questionnaires used and the data derived from them, and how the data were collected and  analyzed.\", \"start_char\": 2265, \"end_char\": 4776}\n"
     ]
    }
   ],
   "source": [
    "def print_first_lines(filepath, num_lines=10):\n",
    "    with open(filepath, 'r', encoding='utf-8') as f:\n",
    "        for _ in range(num_lines):\n",
    "            line = f.readline()\n",
    "            if not line:\n",
    "                break\n",
    "            print(line.rstrip())\n",
    "\n",
    "# Usage example\n",
    "print_first_lines('msmarco_v2.1_doc_00.json', 5)\n",
    "print(\"----------------\")\n",
    "print_first_lines('msmarco_v2.1_doc_segmented_00.json', 10)"
   ]
  },
  {
   "cell_type": "markdown",
   "id": "9eed5f2b",
   "metadata": {},
   "source": [
    "Read in json file(clueweb data), put into dataFrame"
   ]
  },
  {
   "cell_type": "code",
   "execution_count": 3,
   "id": "01a46331",
   "metadata": {},
   "outputs": [
    {
     "name": "stdout",
     "output_type": "stream",
     "text": [
      "38131\n"
     ]
    },
    {
     "data": {
      "text/html": [
       "<div>\n",
       "<style scoped>\n",
       "    .dataframe tbody tr th:only-of-type {\n",
       "        vertical-align: middle;\n",
       "    }\n",
       "\n",
       "    .dataframe tbody tr th {\n",
       "        vertical-align: top;\n",
       "    }\n",
       "\n",
       "    .dataframe thead th {\n",
       "        text-align: right;\n",
       "    }\n",
       "</style>\n",
       "<table border=\"1\" class=\"dataframe\">\n",
       "  <thead>\n",
       "    <tr style=\"text-align: right;\">\n",
       "      <th></th>\n",
       "      <th>URL</th>\n",
       "      <th>ClueWeb22-ID</th>\n",
       "      <th>Clean-Text</th>\n",
       "    </tr>\n",
       "  </thead>\n",
       "  <tbody>\n",
       "    <tr>\n",
       "      <th>0</th>\n",
       "      <td>https://www.dailymail.co.uk/news/article-10130...</td>\n",
       "      <td>clueweb22-en0032-91-05114</td>\n",
       "      <td>Japan's Princess Mako marries commoner, loses ...</td>\n",
       "    </tr>\n",
       "    <tr>\n",
       "      <th>1</th>\n",
       "      <td>https://www.nytimes.com/2021/08/26/opinion/afg...</td>\n",
       "      <td>clueweb22-en0027-70-17775</td>\n",
       "      <td>Opinion | Let’s Not Pretend That the Way We Wi...</td>\n",
       "    </tr>\n",
       "    <tr>\n",
       "      <th>2</th>\n",
       "      <td>https://www.politicshome.com/thehouse/article/...</td>\n",
       "      <td>clueweb22-en0032-18-01494</td>\n",
       "      <td>No longer can China’s atrocities against the U...</td>\n",
       "    </tr>\n",
       "    <tr>\n",
       "      <th>3</th>\n",
       "      <td>https://medicaladvise.org/clinical-trials-rese...</td>\n",
       "      <td>clueweb22-en0012-53-13803</td>\n",
       "      <td>How does molnupiravir work? - Medical Advise\\n...</td>\n",
       "    </tr>\n",
       "    <tr>\n",
       "      <th>4</th>\n",
       "      <td>https://www.euronews.com/2021/12/10/mexico-tru...</td>\n",
       "      <td>clueweb22-en0002-69-11564</td>\n",
       "      <td>Mexico truck crash: Dozens killed after lorry ...</td>\n",
       "    </tr>\n",
       "  </tbody>\n",
       "</table>\n",
       "</div>"
      ],
      "text/plain": [
       "                                                 URL  \\\n",
       "0  https://www.dailymail.co.uk/news/article-10130...   \n",
       "1  https://www.nytimes.com/2021/08/26/opinion/afg...   \n",
       "2  https://www.politicshome.com/thehouse/article/...   \n",
       "3  https://medicaladvise.org/clinical-trials-rese...   \n",
       "4  https://www.euronews.com/2021/12/10/mexico-tru...   \n",
       "\n",
       "                ClueWeb22-ID  \\\n",
       "0  clueweb22-en0032-91-05114   \n",
       "1  clueweb22-en0027-70-17775   \n",
       "2  clueweb22-en0032-18-01494   \n",
       "3  clueweb22-en0012-53-13803   \n",
       "4  clueweb22-en0002-69-11564   \n",
       "\n",
       "                                          Clean-Text  \n",
       "0  Japan's Princess Mako marries commoner, loses ...  \n",
       "1  Opinion | Let’s Not Pretend That the Way We Wi...  \n",
       "2  No longer can China’s atrocities against the U...  \n",
       "3  How does molnupiravir work? - Medical Advise\\n...  \n",
       "4  Mexico truck crash: Dozens killed after lorry ...  "
      ]
     },
     "execution_count": 3,
     "metadata": {},
     "output_type": "execute_result"
    }
   ],
   "source": [
    "# Specify the path to the text file\n",
    "file_path = 'trec-2024-lateral-reading-task2-baseline-documents.jsonl'\n",
    "\n",
    "\n",
    "with open(file_path, 'r', encoding=\"utf8\") as f:\n",
    "    data1 = [json.loads(line) for line in f]\n",
    "\n",
    "clue_df = pd.DataFrame(data1)\n",
    "\n",
    "print(len(clue_df))\n",
    "clue_df.drop(columns=[\"URL-hash\", \"Language\"], inplace=True)\n",
    "clue_df.head()"
   ]
  },
  {
   "cell_type": "markdown",
   "id": "149dd51d",
   "metadata": {},
   "source": [
    "Create FAISS index and save it to disk"
   ]
  },
  {
   "cell_type": "code",
   "execution_count": 28,
   "id": "68317718",
   "metadata": {},
   "outputs": [
    {
     "ename": "KeyboardInterrupt",
     "evalue": "",
     "output_type": "error",
     "traceback": [
      "\u001b[1;31m---------------------------------------------------------------------------\u001b[0m",
      "\u001b[1;31mKeyboardInterrupt\u001b[0m                         Traceback (most recent call last)",
      "Cell \u001b[1;32mIn[28], line 7\u001b[0m\n\u001b[0;32m      4\u001b[0m texts \u001b[38;5;241m=\u001b[39m clue_df[\u001b[38;5;124m\"\u001b[39m\u001b[38;5;124mClean-Text\u001b[39m\u001b[38;5;124m\"\u001b[39m]\u001b[38;5;241m.\u001b[39mtolist()\n\u001b[0;32m      6\u001b[0m \u001b[38;5;66;03m# Create embeddings\u001b[39;00m\n\u001b[1;32m----> 7\u001b[0m embeddings \u001b[38;5;241m=\u001b[39m \u001b[43mmodel\u001b[49m\u001b[38;5;241;43m.\u001b[39;49m\u001b[43mencode\u001b[49m\u001b[43m(\u001b[49m\u001b[43mtexts\u001b[49m\u001b[43m,\u001b[49m\u001b[43mbatch_size\u001b[49m\u001b[38;5;241;43m=\u001b[39;49m\u001b[38;5;241;43m32\u001b[39;49m\u001b[43m,\u001b[49m\u001b[43m \u001b[49m\u001b[43mshow_progress_bar\u001b[49m\u001b[38;5;241;43m=\u001b[39;49m\u001b[38;5;28;43;01mTrue\u001b[39;49;00m\u001b[43m,\u001b[49m\u001b[43m \u001b[49m\u001b[43mconvert_to_numpy\u001b[49m\u001b[38;5;241;43m=\u001b[39;49m\u001b[38;5;28;43;01mTrue\u001b[39;49;00m\u001b[43m,\u001b[49m\u001b[43m \u001b[49m\u001b[43mnormalize_embeddings\u001b[49m\u001b[38;5;241;43m=\u001b[39;49m\u001b[38;5;28;43;01mTrue\u001b[39;49;00m\u001b[43m)\u001b[49m\n\u001b[0;32m      9\u001b[0m \u001b[38;5;66;03m# Initialize FAISS index\u001b[39;00m\n\u001b[0;32m     10\u001b[0m dimension \u001b[38;5;241m=\u001b[39m embeddings\u001b[38;5;241m.\u001b[39mshape[\u001b[38;5;241m1\u001b[39m]\n",
      "File \u001b[1;32mc:\\Users\\Max\\Desktop\\TREC2025\\.venv\\lib\\site-packages\\sentence_transformers\\SentenceTransformer.py:648\u001b[0m, in \u001b[0;36mSentenceTransformer.encode\u001b[1;34m(self, sentences, prompt_name, prompt, batch_size, show_progress_bar, output_value, precision, convert_to_numpy, convert_to_tensor, device, normalize_embeddings, **kwargs)\u001b[0m\n\u001b[0;32m    645\u001b[0m \u001b[38;5;28mself\u001b[39m\u001b[38;5;241m.\u001b[39mto(device)\n\u001b[0;32m    647\u001b[0m all_embeddings \u001b[38;5;241m=\u001b[39m []\n\u001b[1;32m--> 648\u001b[0m length_sorted_idx \u001b[38;5;241m=\u001b[39m np\u001b[38;5;241m.\u001b[39margsort([\u001b[38;5;241m-\u001b[39m\u001b[38;5;28mself\u001b[39m\u001b[38;5;241m.\u001b[39m_text_length(sen) \u001b[38;5;28;01mfor\u001b[39;00m sen \u001b[38;5;129;01min\u001b[39;00m sentences])\n\u001b[0;32m    649\u001b[0m sentences_sorted \u001b[38;5;241m=\u001b[39m [sentences[idx] \u001b[38;5;28;01mfor\u001b[39;00m idx \u001b[38;5;129;01min\u001b[39;00m length_sorted_idx]\n\u001b[0;32m    651\u001b[0m \u001b[38;5;28;01mfor\u001b[39;00m start_index \u001b[38;5;129;01min\u001b[39;00m trange(\u001b[38;5;241m0\u001b[39m, \u001b[38;5;28mlen\u001b[39m(sentences), batch_size, desc\u001b[38;5;241m=\u001b[39m\u001b[38;5;124m\"\u001b[39m\u001b[38;5;124mBatches\u001b[39m\u001b[38;5;124m\"\u001b[39m, disable\u001b[38;5;241m=\u001b[39m\u001b[38;5;129;01mnot\u001b[39;00m show_progress_bar):\n",
      "File \u001b[1;32mc:\\Users\\Max\\Desktop\\TREC2025\\.venv\\lib\\site-packages\\sentence_transformers\\SentenceTransformer.py:648\u001b[0m, in \u001b[0;36m<listcomp>\u001b[1;34m(.0)\u001b[0m\n\u001b[0;32m    645\u001b[0m \u001b[38;5;28mself\u001b[39m\u001b[38;5;241m.\u001b[39mto(device)\n\u001b[0;32m    647\u001b[0m all_embeddings \u001b[38;5;241m=\u001b[39m []\n\u001b[1;32m--> 648\u001b[0m length_sorted_idx \u001b[38;5;241m=\u001b[39m np\u001b[38;5;241m.\u001b[39margsort([\u001b[38;5;241m-\u001b[39m\u001b[38;5;28;43mself\u001b[39;49m\u001b[38;5;241;43m.\u001b[39;49m\u001b[43m_text_length\u001b[49m\u001b[43m(\u001b[49m\u001b[43msen\u001b[49m\u001b[43m)\u001b[49m \u001b[38;5;28;01mfor\u001b[39;00m sen \u001b[38;5;129;01min\u001b[39;00m sentences])\n\u001b[0;32m    649\u001b[0m sentences_sorted \u001b[38;5;241m=\u001b[39m [sentences[idx] \u001b[38;5;28;01mfor\u001b[39;00m idx \u001b[38;5;129;01min\u001b[39;00m length_sorted_idx]\n\u001b[0;32m    651\u001b[0m \u001b[38;5;28;01mfor\u001b[39;00m start_index \u001b[38;5;129;01min\u001b[39;00m trange(\u001b[38;5;241m0\u001b[39m, \u001b[38;5;28mlen\u001b[39m(sentences), batch_size, desc\u001b[38;5;241m=\u001b[39m\u001b[38;5;124m\"\u001b[39m\u001b[38;5;124mBatches\u001b[39m\u001b[38;5;124m\"\u001b[39m, disable\u001b[38;5;241m=\u001b[39m\u001b[38;5;129;01mnot\u001b[39;00m show_progress_bar):\n",
      "File \u001b[1;32mc:\\Users\\Max\\Desktop\\TREC2025\\.venv\\lib\\site-packages\\sentence_transformers\\SentenceTransformer.py:1546\u001b[0m, in \u001b[0;36mSentenceTransformer._text_length\u001b[1;34m(self, text)\u001b[0m\n\u001b[0;32m   1544\u001b[0m     \u001b[38;5;28;01mreturn\u001b[39;00m \u001b[38;5;28mlen\u001b[39m(text)\n\u001b[0;32m   1545\u001b[0m \u001b[38;5;28;01melse\u001b[39;00m:\n\u001b[1;32m-> 1546\u001b[0m     \u001b[38;5;28;01mreturn\u001b[39;00m \u001b[38;5;28msum\u001b[39m([\u001b[38;5;28mlen\u001b[39m(t) \u001b[38;5;28;01mfor\u001b[39;00m t \u001b[38;5;129;01min\u001b[39;00m text])\n",
      "File \u001b[1;32mc:\\Users\\Max\\Desktop\\TREC2025\\.venv\\lib\\site-packages\\sentence_transformers\\SentenceTransformer.py:1546\u001b[0m, in \u001b[0;36m<listcomp>\u001b[1;34m(.0)\u001b[0m\n\u001b[0;32m   1544\u001b[0m     \u001b[38;5;28;01mreturn\u001b[39;00m \u001b[38;5;28mlen\u001b[39m(text)\n\u001b[0;32m   1545\u001b[0m \u001b[38;5;28;01melse\u001b[39;00m:\n\u001b[1;32m-> 1546\u001b[0m     \u001b[38;5;28;01mreturn\u001b[39;00m \u001b[38;5;28msum\u001b[39m([\u001b[38;5;28mlen\u001b[39m(t) \u001b[38;5;28;01mfor\u001b[39;00m t \u001b[38;5;129;01min\u001b[39;00m text])\n",
      "\u001b[1;31mKeyboardInterrupt\u001b[0m: "
     ]
    }
   ],
   "source": [
    "model = SentenceTransformer('all-MiniLM-L6-v2')  # Good balance of speed/accuracy\n",
    "\n",
    "# Your text database\n",
    "texts = clue_df[\"Clean-Text\"].tolist()\n",
    "\n",
    "# Create embeddings\n",
    "embeddings = model.encode(texts,batch_size=32, show_progress_bar=True, convert_to_numpy=True, normalize_embeddings=True)\n",
    "\n",
    "# Initialize FAISS index\n",
    "dimension = embeddings.shape[1]\n",
    "index = faiss.IndexFlatIP(dimension)  # Use IndexFlatIP with normalized vectors for cosine similarity\n",
    "\n",
    "np.save(\"embedding_matrix.npy\", embeddings)\n",
    "# Add embeddings to index\n",
    "index.add(embeddings)\n",
    "faiss.write_index(index, \"semantic_index.faiss\")"
   ]
  },
  {
   "cell_type": "markdown",
   "id": "0a12f490",
   "metadata": {},
   "source": [
    "Load FAISS index"
   ]
  },
  {
   "cell_type": "code",
   "execution_count": 28,
   "id": "aebebe0c",
   "metadata": {},
   "outputs": [],
   "source": [
    "index = faiss.read_index(\"semantic_index.faiss\")\n",
    "embedding_matrix = np.load(\"embedding_matrix.npy\")"
   ]
  },
  {
   "cell_type": "markdown",
   "id": "33c442c2",
   "metadata": {},
   "source": [
    "Query the index"
   ]
  },
  {
   "cell_type": "code",
   "execution_count": null,
   "id": "f6e6f56e",
   "metadata": {},
   "outputs": [
    {
     "name": "stdout",
     "output_type": "stream",
     "text": [
      "Rank: 1, Score: 0.6346, ID: clueweb22-en0004-97-03739, Snippet: The Danish TV show where children watch adults take off their clothes The Danish TV show where children watch adults take off their clothes The programme aims to counter social media that bombards you...\n",
      "Rank: 2, Score: 0.6269, ID: clueweb22-en0035-27-04486, Snippet: DR Ramasjang - Wikipedia DR Ramasjang From Wikipedia, the free encyclopedia DR Ramasjang Country Denmark Broadcast area Danish Realm Headquarters Aarhus, Denmark Programming Language(s) Danish Picture...\n",
      "Rank: 3, Score: 0.6135, ID: clueweb22-en0002-42-09375, Snippet: Naked adults appear on controversial Danish children’s TV show to debunk ‘perfect body' myth | The Independent The Independent’s journalism is supported by our readers. When you purchase through links...\n",
      "Rank: 4, Score: 0.6094, ID: clueweb22-en0029-44-01029, Snippet: Adults strip on Danish children's TV show to challenge 'perfect body' myth Adults strip on Danish children's TV show to challenge 'perfect body' myth Old and young, fat and thin, disrobe in front of l...\n",
      "Rank: 5, Score: 0.6081, ID: clueweb22-en0027-05-02548, Snippet: Danish TV show features naked adults in front of school children | Metro News Presenter defends Danish TV show featuring naked adults in front of school children Comment Alicia Adejobi Sunday 20 Sep 2...\n"
     ]
    }
   ],
   "source": [
    "# Data prep\n",
    "texts = clue_df[\"Clean-Text\"].tolist()\n",
    "IDs = clue_df[\"ClueWeb22-ID\"].tolist()\n",
    "\n",
    "# Query\n",
    "query = \"What kind of credibility does the Danish broadcaster, DR, have in developing children's TV shows?\"\n",
    "query_tag = \"clueweb22-en0030-87-05450\"\n",
    "\n",
    "# Encode query\n",
    "query_embedding = model.encode(query, convert_to_numpy=True, normalize_embeddings=True).astype('float32')\n",
    "query_embedding = np.expand_dims(query_embedding, axis=0)  # shape (1, dim)\n",
    "\n",
    "# Load FAISS index (assumed to be cosine similarity = inner product of normalized vectors)\n",
    "index = faiss.read_index(\"semantic_index.faiss\")\n",
    "\n",
    "# Search\n",
    "k = 10  # search more than 5 in case we exclude the query itself\n",
    "scores, indices = index.search(query_embedding, k)\n",
    "\n",
    "# Filter out the query itself and build results\n",
    "results = []\n",
    "for score, idx in zip(scores[0], indices[0]):\n",
    "    if IDs[idx] == query_tag:\n",
    "        continue  # skip the query origin\n",
    "\n",
    "    text = texts[idx]\n",
    "    snippet = text[:200].replace('\\n', ' ')\n",
    "    if len(text) > 200:\n",
    "        snippet += '...'\n",
    "\n",
    "    results.append({\n",
    "        \"rank\": len(results) + 1,\n",
    "        \"score\": round(float(score), 4),\n",
    "        \"snippet\": snippet,\n",
    "        \"id\": IDs[idx],\n",
    "    })\n",
    "\n",
    "    if len(results) == 5:\n",
    "        break  # stop once we have top 5 (excluding query)\n",
    "\n",
    "# Print results\n",
    "for r in results:\n",
    "    print(f\"Rank: {r['rank']}, Score: {r['score']}, ID: {r['id']}, Snippet: {r['snippet']}\")"
   ]
  },
  {
   "cell_type": "markdown",
   "id": "0504be2c",
   "metadata": {},
   "source": [
    "Load in marco database in batches into dataframe and save to disk"
   ]
  },
  {
   "cell_type": "code",
   "execution_count": 9,
   "id": "b536543b",
   "metadata": {},
   "outputs": [
    {
     "name": "stdout",
     "output_type": "stream",
     "text": [
      "193732\n"
     ]
    },
    {
     "data": {
      "text/html": [
       "<div>\n",
       "<style scoped>\n",
       "    .dataframe tbody tr th:only-of-type {\n",
       "        vertical-align: middle;\n",
       "    }\n",
       "\n",
       "    .dataframe tbody tr th {\n",
       "        vertical-align: top;\n",
       "    }\n",
       "\n",
       "    .dataframe thead th {\n",
       "        text-align: right;\n",
       "    }\n",
       "</style>\n",
       "<table border=\"1\" class=\"dataframe\">\n",
       "  <thead>\n",
       "    <tr style=\"text-align: right;\">\n",
       "      <th></th>\n",
       "      <th>body</th>\n",
       "      <th>docid</th>\n",
       "    </tr>\n",
       "  </thead>\n",
       "  <tbody>\n",
       "    <tr>\n",
       "      <th>0</th>\n",
       "      <td>0-60 Times - 0-60 | 0 to 60 Times &amp; 1/4 Mile T...</td>\n",
       "      <td>msmarco_v2.1_doc_00_0</td>\n",
       "    </tr>\n",
       "    <tr>\n",
       "      <th>1</th>\n",
       "      <td>Ethel Percy Andrus Gerontology Center [WorldCa...</td>\n",
       "      <td>msmarco_v2.1_doc_00_4810</td>\n",
       "    </tr>\n",
       "    <tr>\n",
       "      <th>2</th>\n",
       "      <td>Museo Nacional de Bellas Artes (Cuba) [WorldCa...</td>\n",
       "      <td>msmarco_v2.1_doc_00_18906</td>\n",
       "    </tr>\n",
       "    <tr>\n",
       "      <th>3</th>\n",
       "      <td>File extension 00000 is used by operating syst...</td>\n",
       "      <td>msmarco_v2.1_doc_00_32860</td>\n",
       "    </tr>\n",
       "    <tr>\n",
       "      <th>4</th>\n",
       "      <td>Open 00001 File\\n\\nOpen 00001 File\\nTo open 00...</td>\n",
       "      <td>msmarco_v2.1_doc_00_37424</td>\n",
       "    </tr>\n",
       "  </tbody>\n",
       "</table>\n",
       "</div>"
      ],
      "text/plain": [
       "                                                body  \\\n",
       "0  0-60 Times - 0-60 | 0 to 60 Times & 1/4 Mile T...   \n",
       "1  Ethel Percy Andrus Gerontology Center [WorldCa...   \n",
       "2  Museo Nacional de Bellas Artes (Cuba) [WorldCa...   \n",
       "3  File extension 00000 is used by operating syst...   \n",
       "4  Open 00001 File\\n\\nOpen 00001 File\\nTo open 00...   \n",
       "\n",
       "                       docid  \n",
       "0      msmarco_v2.1_doc_00_0  \n",
       "1   msmarco_v2.1_doc_00_4810  \n",
       "2  msmarco_v2.1_doc_00_18906  \n",
       "3  msmarco_v2.1_doc_00_32860  \n",
       "4  msmarco_v2.1_doc_00_37424  "
      ]
     },
     "execution_count": 9,
     "metadata": {},
     "output_type": "execute_result"
    }
   ],
   "source": [
    "# Specify the path to the text file\n",
    "file_path = 'msmarco_v2.1_doc_00.json'\n",
    "\n",
    "\n",
    "with open(file_path, 'r', encoding=\"utf8\") as f:\n",
    "    data = [json.loads(line) for line in f]\n",
    "\n",
    "ms_df = pd.DataFrame(data)\n",
    "ms_df.drop(columns=[\"url\", \"title\", \"headings\"], inplace=True)\n",
    "print(len(ms_df))\n",
    "ms_df.head()"
   ]
  },
  {
   "cell_type": "code",
   "execution_count": null,
   "id": "9401ce08",
   "metadata": {},
   "outputs": [],
   "source": [
    "json_input_dir = \"\"\n",
    "output_dir = \"output/\"\n",
    "count = 0\n",
    "\n",
    "model = SentenceTransformer('all-MiniLM-L6-v2')\n",
    "\n",
    "# Specify the path to the text file\n",
    "for entry in os.scandir(json_input_dir):  \n",
    "    if entry.is_file():  # check if it's a file\n",
    "        with open(entry, 'r', encoding=\"utf8\") as f:\n",
    "            data = [json.loads(line) for line in f]\n",
    "        marco_df = pd.DataFrame(data)\n",
    "        marco_df.drop(columns=[\"url\", \"title\", \"headings\"], inplace=True)\n",
    "\n",
    "\n",
    "        # Your text database\n",
    "        texts = marco_df[\"body\"].tolist()\n",
    "\n",
    "        # Create embeddings\n",
    "        embeddings = model.encode(texts,batch_size=64, show_progress_bar=True, convert_to_numpy=True, normalize_embeddings=True)\n",
    "\n",
    "        # Initialize FAISS index\n",
    "        dimension = embeddings.shape[1]\n",
    "        index = faiss.IndexFlatIP(dimension)  # Use IndexFlatIP with normalized vectors for cosine similarity\n",
    "\n",
    "        # Add embeddings to index\n",
    "        index.add(embeddings)\n",
    "        faiss.write_index(index, \"semantic_index_\" + str(count) + \".faiss\")\n",
    "        count += 1\n",
    "        data.clear()"
   ]
  }
 ],
 "metadata": {
  "kernelspec": {
   "display_name": ".venv",
   "language": "python",
   "name": "python3"
  },
  "language_info": {
   "codemirror_mode": {
    "name": "ipython",
    "version": 3
   },
   "file_extension": ".py",
   "mimetype": "text/x-python",
   "name": "python",
   "nbconvert_exporter": "python",
   "pygments_lexer": "ipython3",
   "version": "3.10.11"
  }
 },
 "nbformat": 4,
 "nbformat_minor": 5
}
