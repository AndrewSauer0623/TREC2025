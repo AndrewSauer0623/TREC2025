{
 "cells": [
  {
   "cell_type": "markdown",
   "id": "56e0039f6912e8e1",
   "metadata": {
    "collapsed": false
   },
   "source": [
    "Plan of Action:\n",
    "    1. Use starter pack to generate questions to see how good it is at doing it.\n",
    "    2. If it is bad at it, we will come back and write our own question generator in the future, but we will use it for now.\n",
    "    3. Start the report generation task\n",
    "    4. Sample ideas include: Using NLP models to \"average out\" the repetitive questions for less API usage. Have predetermined categories for types of questions. Each category must be answered in the report. Some examples of category include but are not limited to, author bias, fact cross checking, author reputation, general question asking related to the topic at hand."
   ]
  },
  {
   "cell_type": "markdown",
   "id": "fe05c12d07844d94",
   "metadata": {
    "collapsed": false
   },
   "source": [
    "This block of code reads the 2024 question document and filters out any questions not rated as '4'. Prints the output to a file."
   ]
  },
  {
   "cell_type": "code",
   "execution_count": null,
   "id": "5a168c31c4f5fa45",
   "metadata": {
    "ExecuteTime": {
     "end_time": "2025-05-28T13:21:22.267037Z",
     "start_time": "2025-05-28T13:21:22.261377Z"
    },
    "collapsed": false
   },
   "outputs": [],
   "source": [
    "import pandas as pd\n",
    "# Specify the path to the text file\n",
    "file_path = '2024-question-assessment.txt'\n",
    "\n",
    "with open(file_path, 'r', encoding='utf-8') as file:\n",
    "    for line in file:\n",
    "        line = line.split(\"\\t\")\n",
    "        if (line[5] == \"4\" or line[5] == \"3\"):\n",
    "            \n",
    "            with open('/Users/andrew/Desktop/filtered_questions.txt', 'a', encoding='utf-8') as out_file:\n",
    "                out_file.write(\"Clueweb Tag: \" + line[1] + \" Rating: \" + line[5] + \" Question: \" + line[7] + \"\\n\")\n",
    "        \n",
    "\n"
   ]
  },
  {
   "cell_type": "code",
   "execution_count": 3,
   "id": "6fe56ffe",
   "metadata": {
    "ExecuteTime": {
     "end_time": "2025-05-28T15:09:07.500893Z",
     "start_time": "2025-05-28T15:09:07.486688Z"
    }
   },
   "outputs": [
    {
     "data": {
      "text/html": [
       "<div>\n",
       "<style scoped>\n",
       "    .dataframe tbody tr th:only-of-type {\n",
       "        vertical-align: middle;\n",
       "    }\n",
       "\n",
       "    .dataframe tbody tr th {\n",
       "        vertical-align: top;\n",
       "    }\n",
       "\n",
       "    .dataframe thead th {\n",
       "        text-align: right;\n",
       "    }\n",
       "</style>\n",
       "<table border=\"1\" class=\"dataframe\">\n",
       "  <thead>\n",
       "    <tr style=\"text-align: right;\">\n",
       "      <th></th>\n",
       "      <th>URL</th>\n",
       "      <th>URL-hash</th>\n",
       "      <th>Language</th>\n",
       "      <th>ClueWeb22-ID</th>\n",
       "      <th>Clean-Text</th>\n",
       "    </tr>\n",
       "  </thead>\n",
       "  <tbody>\n",
       "    <tr>\n",
       "      <th>0</th>\n",
       "      <td>https://www.dailymail.co.uk/news/article-10130...</td>\n",
       "      <td>1F1D55AC16DCD50B1560DE585165466D</td>\n",
       "      <td>en</td>\n",
       "      <td>clueweb22-en0032-91-05114</td>\n",
       "      <td>Japan's Princess Mako marries commoner, loses ...</td>\n",
       "    </tr>\n",
       "    <tr>\n",
       "      <th>1</th>\n",
       "      <td>https://www.nytimes.com/2021/08/26/opinion/afg...</td>\n",
       "      <td>4CC82FB7D4CB6DE296C887E0F7F82C57</td>\n",
       "      <td>en</td>\n",
       "      <td>clueweb22-en0027-70-17775</td>\n",
       "      <td>Opinion | Let’s Not Pretend That the Way We Wi...</td>\n",
       "    </tr>\n",
       "    <tr>\n",
       "      <th>2</th>\n",
       "      <td>https://www.politicshome.com/thehouse/article/...</td>\n",
       "      <td>357F722430ABDA02F9757BD8E4DF0CAA</td>\n",
       "      <td>en</td>\n",
       "      <td>clueweb22-en0032-18-01494</td>\n",
       "      <td>No longer can China’s atrocities against the U...</td>\n",
       "    </tr>\n",
       "    <tr>\n",
       "      <th>3</th>\n",
       "      <td>https://medicaladvise.org/clinical-trials-rese...</td>\n",
       "      <td>D0823CAF7F01DCC0D8112D527D936B86</td>\n",
       "      <td>en</td>\n",
       "      <td>clueweb22-en0012-53-13803</td>\n",
       "      <td>How does molnupiravir work? - Medical Advise\\n...</td>\n",
       "    </tr>\n",
       "    <tr>\n",
       "      <th>4</th>\n",
       "      <td>https://www.euronews.com/2021/12/10/mexico-tru...</td>\n",
       "      <td>C623D58493D0F372CC5E56F59BD20611</td>\n",
       "      <td>en</td>\n",
       "      <td>clueweb22-en0002-69-11564</td>\n",
       "      <td>Mexico truck crash: Dozens killed after lorry ...</td>\n",
       "    </tr>\n",
       "  </tbody>\n",
       "</table>\n",
       "</div>"
      ],
      "text/plain": [
       "                                                 URL  \\\n",
       "0  https://www.dailymail.co.uk/news/article-10130...   \n",
       "1  https://www.nytimes.com/2021/08/26/opinion/afg...   \n",
       "2  https://www.politicshome.com/thehouse/article/...   \n",
       "3  https://medicaladvise.org/clinical-trials-rese...   \n",
       "4  https://www.euronews.com/2021/12/10/mexico-tru...   \n",
       "\n",
       "                           URL-hash Language               ClueWeb22-ID  \\\n",
       "0  1F1D55AC16DCD50B1560DE585165466D       en  clueweb22-en0032-91-05114   \n",
       "1  4CC82FB7D4CB6DE296C887E0F7F82C57       en  clueweb22-en0027-70-17775   \n",
       "2  357F722430ABDA02F9757BD8E4DF0CAA       en  clueweb22-en0032-18-01494   \n",
       "3  D0823CAF7F01DCC0D8112D527D936B86       en  clueweb22-en0012-53-13803   \n",
       "4  C623D58493D0F372CC5E56F59BD20611       en  clueweb22-en0002-69-11564   \n",
       "\n",
       "                                          Clean-Text  \n",
       "0  Japan's Princess Mako marries commoner, loses ...  \n",
       "1  Opinion | Let’s Not Pretend That the Way We Wi...  \n",
       "2  No longer can China’s atrocities against the U...  \n",
       "3  How does molnupiravir work? - Medical Advise\\n...  \n",
       "4  Mexico truck crash: Dozens killed after lorry ...  "
      ]
     },
     "execution_count": 3,
     "metadata": {},
     "output_type": "execute_result"
    }
   ],
   "source": [
    "import pandas as pd\n",
    "import json \n",
    "\n",
    "# Specify the path to the text file\n",
    "file_path = '../trec-2024-lateral-reading-task2-baseline-documents.json'\n",
    "\n",
    "f = open(file_path)\n",
    "data = json.load(f)\n",
    "articles_df = pd.DataFrame.from_dict(data)\n",
    "articles_df.head()\n",
    "\n"
   ]
  },
  {
   "cell_type": "code",
   "execution_count": null,
   "id": "95b85cc2af186e4b",
   "metadata": {
    "collapsed": false
   },
   "outputs": [],
   "source": []
  }
 ],
 "metadata": {
  "kernelspec": {
   "display_name": "venv",
   "language": "python",
   "name": "python3"
  },
  "language_info": {
   "codemirror_mode": {
    "name": "ipython",
    "version": 3
   },
   "file_extension": ".py",
   "mimetype": "text/x-python",
   "name": "python",
   "nbconvert_exporter": "python",
   "pygments_lexer": "ipython3",
   "version": "3.11.8"
  }
 },
 "nbformat": 4,
 "nbformat_minor": 5
}
