{
 "cells": [
  {
   "cell_type": "markdown",
   "id": "56e0039f6912e8e1",
   "metadata": {
    "collapsed": false
   },
   "source": [
    "Plan of Action:\n",
    "    1. Use starter pack to generate questions to see how good it is at doing it.\n",
    "    2. If it is bad at it, we will come back and write our own question generator in the future, but we will use it for now.\n",
    "    3. Start the report generation task\n",
    "    4. Sample ideas include: Using NLP models to \"average out\" the repetitive questions for less API usage. Have predetermined categories for types of questions. Each category must be answered in the report. Some examples of category include but are not limited to, author bias, fact cross checking, author reputation, general question asking related to the topic at hand."
   ]
  },
  {
   "cell_type": "markdown",
   "id": "fe05c12d07844d94",
   "metadata": {
    "collapsed": false
   },
   "source": [
    "This block of code reads the 2024 question document and filters out any questions not rated as '4'. Prints the output to a file."
   ]
  },
  {
   "cell_type": "code",
   "execution_count": null,
   "id": "5a168c31c4f5fa45",
   "metadata": {
    "ExecuteTime": {
     "end_time": "2025-05-28T13:21:22.267037Z",
     "start_time": "2025-05-28T13:21:22.261377Z"
    },
    "collapsed": false
   },
   "outputs": [],
   "source": [
    "import pandas as pd\n",
    "# Specify the path to the text file\n",
    "file_path = '2024-question-assessment.txt'\n",
    "\n",
    "with open(file_path, 'r', encoding='utf-8') as file:\n",
    "    for line in file:\n",
    "        line = line.split(\"\\t\")\n",
    "        if (line[5] == \"4\" or line[5] == \"3\"):\n",
    "            \n",
    "            with open('/Users/andrew/Desktop/filtered_questions.txt', 'a', encoding='utf-8') as out_file:\n",
    "                out_file.write(\"Clueweb Tag: \" + line[1] + \" Rating: \" + line[5] + \" Question: \" + line[7] + \"\\n\")\n",
    "        \n",
    "\n"
   ]
  },
  {
   "cell_type": "code",
   "execution_count": null,
   "id": "6fe56ffe",
   "metadata": {},
   "outputs": [],
   "source": [
    "import pandas as pd\n",
    "import json \n",
    "\n",
    "# Specify the path to the text file\n",
    "file_path = 'trec-2024-lateral-reading-task2-baseline-documents.json'\n",
    "\n",
    "with open(file_path, 'r', encoding='utf-8') as file:\n",
    "    for line in file:\n",
    "        line = line.split(\"\\t\")\n",
    "        print(line)\n",
    "           \n",
    "\n"
   ]
  },
  {
   "cell_type": "code",
   "execution_count": null,
   "id": "f05838c7",
   "metadata": {},
   "outputs": [],
   "source": []
  },
  {
   "cell_type": "code",
   "execution_count": null,
   "metadata": {},
   "outputs": [],
   "source": []
  }
 ],
 "metadata": {
  "kernelspec": {
   "display_name": "Python 3 (ipykernel)",
   "language": "python",
   "name": "python3"
  },
  "language_info": {
   "codemirror_mode": {
    "name": "ipython",
    "version": 3
   },
   "file_extension": ".py",
   "mimetype": "text/x-python",
   "name": "python",
   "nbconvert_exporter": "python",
   "pygments_lexer": "ipython3",
   "version": "3.11.8"
  }
 },
 "nbformat": 4,
 "nbformat_minor": 5
}
